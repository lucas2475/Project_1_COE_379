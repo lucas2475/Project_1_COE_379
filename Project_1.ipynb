{
 "cells": [
  {
   "cell_type": "code",
   "execution_count": 369,
   "id": "aeb785e2-5bd2-4371-b962-09418898d1b2",
   "metadata": {
    "scrolled": true
   },
   "outputs": [],
   "source": [
    "import pandas as pd"
   ]
  },
  {
   "cell_type": "code",
   "execution_count": 370,
   "id": "cf07b382-b78b-48de-aabc-b3ec24efc8a5",
   "metadata": {},
   "outputs": [],
   "source": [
    "animals = pd.read_csv('project1.csv')"
   ]
  },
  {
   "cell_type": "code",
   "execution_count": 371,
   "id": "f7a57153-8fac-4a51-ab46-4e5341185dcc",
   "metadata": {},
   "outputs": [],
   "source": [
    "# Part 1 (2) Get the geneeral information of the dataset"
   ]
  },
  {
   "cell_type": "code",
   "execution_count": 372,
   "id": "de47a4f0-8318-4907-8d20-135d3cfaf2f0",
   "metadata": {
    "scrolled": true
   },
   "outputs": [
    {
     "name": "stdout",
     "output_type": "stream",
     "text": [
      "<class 'pandas.core.frame.DataFrame'>\n",
      "RangeIndex: 131165 entries, 0 to 131164\n",
      "Data columns (total 12 columns):\n",
      " #   Column            Non-Null Count   Dtype \n",
      "---  ------            --------------   ----- \n",
      " 0   Animal ID         131165 non-null  object\n",
      " 1   Date of Birth     131165 non-null  object\n",
      " 2   Name              93658 non-null   object\n",
      " 3   DateTime          131165 non-null  object\n",
      " 4   MonthYear         131165 non-null  object\n",
      " 5   Outcome Type      131125 non-null  object\n",
      " 6   Outcome Subtype   65810 non-null   object\n",
      " 7   Animal Type       131165 non-null  object\n",
      " 8   Sex upon Outcome  131165 non-null  object\n",
      " 9   Age upon Outcome  131165 non-null  object\n",
      " 10  Breed             131165 non-null  object\n",
      " 11  Color             131165 non-null  object\n",
      "dtypes: object(12)\n",
      "memory usage: 12.0+ MB\n"
     ]
    }
   ],
   "source": [
    "animals.info()"
   ]
  },
  {
   "cell_type": "code",
   "execution_count": 373,
   "id": "556e89ce-ddc2-4d9c-965e-b42cb271dcc6",
   "metadata": {},
   "outputs": [],
   "source": [
    "# Based on the information, they are all object datatype. Breed, Color, Sex upon Outcome, Outcome Type and Outcome Subtype need to convert to categorical dtype, and Age upon outcome convert to float dtype "
   ]
  },
  {
   "cell_type": "code",
   "execution_count": 374,
   "id": "3d9c85dc-34b6-4b60-8d15-aa0f7ba48cc7",
   "metadata": {},
   "outputs": [],
   "source": [
    "# Check Categorial Values"
   ]
  },
  {
   "cell_type": "code",
   "execution_count": 375,
   "id": "5585091d-9521-45ba-81ba-46b56b53ef06",
   "metadata": {},
   "outputs": [
    {
     "data": {
      "text/plain": [
       "array(['Transfer', 'Adoption', nan], dtype=object)"
      ]
     },
     "execution_count": 375,
     "metadata": {},
     "output_type": "execute_result"
    }
   ],
   "source": [
    "animals['Outcome Type'].unique()"
   ]
  },
  {
   "cell_type": "code",
   "execution_count": 376,
   "id": "799e1927-5f17-4e0c-97e4-5542f07efd45",
   "metadata": {},
   "outputs": [
    {
     "data": {
      "text/plain": [
       "array(['Partner', nan, 'Foster', 'Offsite', 'SCRP', 'Snr', 'Barn',\n",
       "       'Out State', 'Emer', 'In State'], dtype=object)"
      ]
     },
     "execution_count": 376,
     "metadata": {},
     "output_type": "execute_result"
    }
   ],
   "source": [
    "animals['Outcome Subtype'].unique()"
   ]
  },
  {
   "cell_type": "code",
   "execution_count": 377,
   "id": "9bbbd52d-2ca9-4e33-9cc3-32f19873ddfb",
   "metadata": {},
   "outputs": [],
   "source": [
    "# Part 1(1) Identify the shape of the dataset"
   ]
  },
  {
   "cell_type": "code",
   "execution_count": 378,
   "id": "a193fd5e-46cd-42c9-9ac4-930e8b8f3d6c",
   "metadata": {},
   "outputs": [
    {
     "data": {
      "text/plain": [
       "(131165, 12)"
      ]
     },
     "execution_count": 378,
     "metadata": {},
     "output_type": "execute_result"
    }
   ],
   "source": [
    "animals.shape"
   ]
  },
  {
   "cell_type": "code",
   "execution_count": 379,
   "id": "aad0206a-4cb4-42ed-88b6-1243ecc30990",
   "metadata": {},
   "outputs": [],
   "source": [
    "# the shape of the dataset is 131165 rows and 12 columns"
   ]
  },
  {
   "cell_type": "code",
   "execution_count": 380,
   "id": "7431ed17-0feb-4b2f-898a-24f8e85025e3",
   "metadata": {},
   "outputs": [
    {
     "data": {
      "text/html": [
       "<div>\n",
       "<style scoped>\n",
       "    .dataframe tbody tr th:only-of-type {\n",
       "        vertical-align: middle;\n",
       "    }\n",
       "\n",
       "    .dataframe tbody tr th {\n",
       "        vertical-align: top;\n",
       "    }\n",
       "\n",
       "    .dataframe thead th {\n",
       "        text-align: right;\n",
       "    }\n",
       "</style>\n",
       "<table border=\"1\" class=\"dataframe\">\n",
       "  <thead>\n",
       "    <tr style=\"text-align: right;\">\n",
       "      <th></th>\n",
       "      <th>Animal ID</th>\n",
       "      <th>Date of Birth</th>\n",
       "      <th>Name</th>\n",
       "      <th>DateTime</th>\n",
       "      <th>MonthYear</th>\n",
       "      <th>Outcome Type</th>\n",
       "      <th>Outcome Subtype</th>\n",
       "      <th>Animal Type</th>\n",
       "      <th>Sex upon Outcome</th>\n",
       "      <th>Age upon Outcome</th>\n",
       "      <th>Breed</th>\n",
       "      <th>Color</th>\n",
       "    </tr>\n",
       "  </thead>\n",
       "  <tbody>\n",
       "    <tr>\n",
       "      <th>0</th>\n",
       "      <td>A680855</td>\n",
       "      <td>5/25/14</td>\n",
       "      <td>NaN</td>\n",
       "      <td>2014-06-10T00:00:00-05:00</td>\n",
       "      <td>Jun-14</td>\n",
       "      <td>Transfer</td>\n",
       "      <td>Partner</td>\n",
       "      <td>Bird</td>\n",
       "      <td>Unknown</td>\n",
       "      <td>2 weeks</td>\n",
       "      <td>Duck</td>\n",
       "      <td>Yellow/Black</td>\n",
       "    </tr>\n",
       "    <tr>\n",
       "      <th>1</th>\n",
       "      <td>A680857</td>\n",
       "      <td>5/25/14</td>\n",
       "      <td>NaN</td>\n",
       "      <td>2014-06-10T00:00:00-05:00</td>\n",
       "      <td>Jun-14</td>\n",
       "      <td>Transfer</td>\n",
       "      <td>Partner</td>\n",
       "      <td>Bird</td>\n",
       "      <td>Unknown</td>\n",
       "      <td>2 weeks</td>\n",
       "      <td>Duck</td>\n",
       "      <td>Yellow/Black</td>\n",
       "    </tr>\n",
       "    <tr>\n",
       "      <th>2</th>\n",
       "      <td>A680858</td>\n",
       "      <td>5/25/14</td>\n",
       "      <td>NaN</td>\n",
       "      <td>2014-06-10T00:00:00-05:00</td>\n",
       "      <td>Jun-14</td>\n",
       "      <td>Transfer</td>\n",
       "      <td>Partner</td>\n",
       "      <td>Bird</td>\n",
       "      <td>Unknown</td>\n",
       "      <td>2 weeks</td>\n",
       "      <td>Duck</td>\n",
       "      <td>Yellow/Black</td>\n",
       "    </tr>\n",
       "    <tr>\n",
       "      <th>3</th>\n",
       "      <td>A680859</td>\n",
       "      <td>5/25/14</td>\n",
       "      <td>NaN</td>\n",
       "      <td>2014-06-10T00:00:00-05:00</td>\n",
       "      <td>Jun-14</td>\n",
       "      <td>Transfer</td>\n",
       "      <td>Partner</td>\n",
       "      <td>Bird</td>\n",
       "      <td>Unknown</td>\n",
       "      <td>2 weeks</td>\n",
       "      <td>Duck</td>\n",
       "      <td>Yellow/Black</td>\n",
       "    </tr>\n",
       "    <tr>\n",
       "      <th>4</th>\n",
       "      <td>A680860</td>\n",
       "      <td>5/25/14</td>\n",
       "      <td>NaN</td>\n",
       "      <td>2014-06-10T00:00:00-05:00</td>\n",
       "      <td>Jun-14</td>\n",
       "      <td>Transfer</td>\n",
       "      <td>Partner</td>\n",
       "      <td>Bird</td>\n",
       "      <td>Unknown</td>\n",
       "      <td>2 weeks</td>\n",
       "      <td>Duck</td>\n",
       "      <td>Yellow/Black</td>\n",
       "    </tr>\n",
       "  </tbody>\n",
       "</table>\n",
       "</div>"
      ],
      "text/plain": [
       "  Animal ID Date of Birth Name                   DateTime MonthYear  \\\n",
       "0   A680855       5/25/14  NaN  2014-06-10T00:00:00-05:00    Jun-14   \n",
       "1   A680857       5/25/14  NaN  2014-06-10T00:00:00-05:00    Jun-14   \n",
       "2   A680858       5/25/14  NaN  2014-06-10T00:00:00-05:00    Jun-14   \n",
       "3   A680859       5/25/14  NaN  2014-06-10T00:00:00-05:00    Jun-14   \n",
       "4   A680860       5/25/14  NaN  2014-06-10T00:00:00-05:00    Jun-14   \n",
       "\n",
       "  Outcome Type Outcome Subtype Animal Type Sex upon Outcome Age upon Outcome  \\\n",
       "0     Transfer         Partner        Bird          Unknown          2 weeks   \n",
       "1     Transfer         Partner        Bird          Unknown          2 weeks   \n",
       "2     Transfer         Partner        Bird          Unknown          2 weeks   \n",
       "3     Transfer         Partner        Bird          Unknown          2 weeks   \n",
       "4     Transfer         Partner        Bird          Unknown          2 weeks   \n",
       "\n",
       "  Breed         Color  \n",
       "0  Duck  Yellow/Black  \n",
       "1  Duck  Yellow/Black  \n",
       "2  Duck  Yellow/Black  \n",
       "3  Duck  Yellow/Black  \n",
       "4  Duck  Yellow/Black  "
      ]
     },
     "execution_count": 380,
     "metadata": {},
     "output_type": "execute_result"
    }
   ],
   "source": [
    "animals.head()"
   ]
  },
  {
   "cell_type": "code",
   "execution_count": 381,
   "id": "0ad4d80e-ed06-4675-b095-0aaa38b3a65b",
   "metadata": {},
   "outputs": [],
   "source": [
    "# Check the duplicate rows"
   ]
  },
  {
   "cell_type": "code",
   "execution_count": 382,
   "id": "abd048f3-518b-4537-865f-b86f4e591cd1",
   "metadata": {},
   "outputs": [
    {
     "data": {
      "text/plain": [
       "0         False\n",
       "1         False\n",
       "2         False\n",
       "3         False\n",
       "4         False\n",
       "          ...  \n",
       "131160    False\n",
       "131161    False\n",
       "131162    False\n",
       "131163    False\n",
       "131164    False\n",
       "Length: 131165, dtype: bool"
      ]
     },
     "execution_count": 382,
     "metadata": {},
     "output_type": "execute_result"
    }
   ],
   "source": [
    "animals.duplicated()"
   ]
  },
  {
   "cell_type": "code",
   "execution_count": 383,
   "id": "894b84ec-dfa5-41a2-97ad-e18570d92201",
   "metadata": {},
   "outputs": [],
   "source": [
    "# Part 1(2)  Check the total number of the duplicated rows & remove the duplicate rows"
   ]
  },
  {
   "cell_type": "code",
   "execution_count": 384,
   "id": "ee5277a2-9b97-4026-9f73-db25fd645628",
   "metadata": {},
   "outputs": [
    {
     "data": {
      "text/plain": [
       "17"
      ]
     },
     "execution_count": 384,
     "metadata": {},
     "output_type": "execute_result"
    }
   ],
   "source": [
    "animals.duplicated().sum()"
   ]
  },
  {
   "cell_type": "code",
   "execution_count": 385,
   "id": "ec86c195-fe3a-4ebc-afd6-71ff795c2498",
   "metadata": {},
   "outputs": [],
   "source": [
    "animals.drop_duplicates(inplace=True, ignore_index=True)"
   ]
  },
  {
   "cell_type": "code",
   "execution_count": 386,
   "id": "429dc9ee-f0cc-4226-b76b-232b8bfdc2a6",
   "metadata": {},
   "outputs": [],
   "source": [
    "# Part 1(3) the missing data is names, Outcome Type, and Outcome Subtype Column"
   ]
  },
  {
   "cell_type": "code",
   "execution_count": 387,
   "id": "ecc4a776-9a91-43fc-9429-9a4106f0452a",
   "metadata": {},
   "outputs": [],
   "source": [
    "# Since the name is not an important feature for the later training, fill it with a random name"
   ]
  },
  {
   "cell_type": "code",
   "execution_count": 388,
   "id": "92f82e98-5f4b-400f-9fc5-777ba08b36de",
   "metadata": {
    "scrolled": true
   },
   "outputs": [
    {
     "name": "stderr",
     "output_type": "stream",
     "text": [
      "/tmp/ipykernel_41/539242683.py:1: FutureWarning: A value is trying to be set on a copy of a DataFrame or Series through chained assignment using an inplace method.\n",
      "The behavior will change in pandas 3.0. This inplace method will never work because the intermediate object on which we are setting values always behaves as a copy.\n",
      "\n",
      "For example, when doing 'df[col].method(value, inplace=True)', try using 'df.method({col: value}, inplace=True)' or df[col] = df[col].method(value) instead, to perform the operation inplace on the original object.\n",
      "\n",
      "\n",
      "  animals['Name'].fillna('Max', inplace= True)\n"
     ]
    }
   ],
   "source": [
    "animals['Name'].fillna('Max', inplace= True)"
   ]
  },
  {
   "cell_type": "code",
   "execution_count": 389,
   "id": "46bab5be-4c62-4790-a1c4-5d2b5706c61b",
   "metadata": {},
   "outputs": [
    {
     "name": "stdout",
     "output_type": "stream",
     "text": [
      "<class 'pandas.core.frame.DataFrame'>\n",
      "RangeIndex: 131148 entries, 0 to 131147\n",
      "Data columns (total 12 columns):\n",
      " #   Column            Non-Null Count   Dtype \n",
      "---  ------            --------------   ----- \n",
      " 0   Animal ID         131148 non-null  object\n",
      " 1   Date of Birth     131148 non-null  object\n",
      " 2   Name              131148 non-null  object\n",
      " 3   DateTime          131148 non-null  object\n",
      " 4   MonthYear         131148 non-null  object\n",
      " 5   Outcome Type      131108 non-null  object\n",
      " 6   Outcome Subtype   65802 non-null   object\n",
      " 7   Animal Type       131148 non-null  object\n",
      " 8   Sex upon Outcome  131148 non-null  object\n",
      " 9   Age upon Outcome  131148 non-null  object\n",
      " 10  Breed             131148 non-null  object\n",
      " 11  Color             131148 non-null  object\n",
      "dtypes: object(12)\n",
      "memory usage: 12.0+ MB\n"
     ]
    }
   ],
   "source": [
    "animals.info()"
   ]
  },
  {
   "cell_type": "code",
   "execution_count": 390,
   "id": "9b2ca15b-8326-4a71-9fa9-fc9db6ae2883",
   "metadata": {},
   "outputs": [],
   "source": [
    "missing_subtype = animals[animals['Outcome Subtype'].isna()]"
   ]
  },
  {
   "cell_type": "code",
   "execution_count": 391,
   "id": "bb8202bb-979f-47b7-8438-5dc8d4ccb2fd",
   "metadata": {},
   "outputs": [
    {
     "data": {
      "text/plain": [
       "65346"
      ]
     },
     "execution_count": 391,
     "metadata": {},
     "output_type": "execute_result"
    }
   ],
   "source": [
    "len(missing_subtype)"
   ]
  },
  {
   "cell_type": "code",
   "execution_count": 392,
   "id": "be9d5f02-9e86-4330-b20b-bb06c399c6ce",
   "metadata": {},
   "outputs": [],
   "source": [
    "adpotion_missing = missing_subtype[missing_subtype['Outcome Type'] == 'Adoption']"
   ]
  },
  {
   "cell_type": "code",
   "execution_count": 393,
   "id": "ff39f8bd-4070-4577-8ef4-1b5c4b63eb43",
   "metadata": {},
   "outputs": [
    {
     "data": {
      "text/html": [
       "<div>\n",
       "<style scoped>\n",
       "    .dataframe tbody tr th:only-of-type {\n",
       "        vertical-align: middle;\n",
       "    }\n",
       "\n",
       "    .dataframe tbody tr th {\n",
       "        vertical-align: top;\n",
       "    }\n",
       "\n",
       "    .dataframe thead th {\n",
       "        text-align: right;\n",
       "    }\n",
       "</style>\n",
       "<table border=\"1\" class=\"dataframe\">\n",
       "  <thead>\n",
       "    <tr style=\"text-align: right;\">\n",
       "      <th></th>\n",
       "      <th>Animal ID</th>\n",
       "      <th>Date of Birth</th>\n",
       "      <th>Name</th>\n",
       "      <th>DateTime</th>\n",
       "      <th>MonthYear</th>\n",
       "      <th>Outcome Type</th>\n",
       "      <th>Outcome Subtype</th>\n",
       "      <th>Animal Type</th>\n",
       "      <th>Sex upon Outcome</th>\n",
       "      <th>Age upon Outcome</th>\n",
       "      <th>Breed</th>\n",
       "      <th>Color</th>\n",
       "    </tr>\n",
       "  </thead>\n",
       "  <tbody>\n",
       "    <tr>\n",
       "      <th>8</th>\n",
       "      <td>A683090</td>\n",
       "      <td>4/22/14</td>\n",
       "      <td>Jenny Tyson</td>\n",
       "      <td>2014-07-11T00:00:00-05:00</td>\n",
       "      <td>Jul-14</td>\n",
       "      <td>Adoption</td>\n",
       "      <td>NaN</td>\n",
       "      <td>Dog</td>\n",
       "      <td>Spayed Female</td>\n",
       "      <td>2 months</td>\n",
       "      <td>Black Mouth Cur Mix</td>\n",
       "      <td>Brown/Black</td>\n",
       "    </tr>\n",
       "    <tr>\n",
       "      <th>32</th>\n",
       "      <td>A698568</td>\n",
       "      <td>3/13/12</td>\n",
       "      <td>Bella</td>\n",
       "      <td>2015-03-14T00:00:00-05:00</td>\n",
       "      <td>Mar-15</td>\n",
       "      <td>Adoption</td>\n",
       "      <td>NaN</td>\n",
       "      <td>Dog</td>\n",
       "      <td>Intact Female</td>\n",
       "      <td>3 years</td>\n",
       "      <td>Chihuahua Shorthair</td>\n",
       "      <td>Sable</td>\n",
       "    </tr>\n",
       "    <tr>\n",
       "      <th>47</th>\n",
       "      <td>A699357</td>\n",
       "      <td>10/16/14</td>\n",
       "      <td>*Finn</td>\n",
       "      <td>2015-04-02T00:00:00-05:00</td>\n",
       "      <td>Apr-15</td>\n",
       "      <td>Adoption</td>\n",
       "      <td>NaN</td>\n",
       "      <td>Dog</td>\n",
       "      <td>Neutered Male</td>\n",
       "      <td>5 months</td>\n",
       "      <td>Australian Cattle Dog Mix</td>\n",
       "      <td>White/Red Tick</td>\n",
       "    </tr>\n",
       "    <tr>\n",
       "      <th>48</th>\n",
       "      <td>A699358</td>\n",
       "      <td>10/16/14</td>\n",
       "      <td>*Lacey</td>\n",
       "      <td>2015-04-03T00:00:00-05:00</td>\n",
       "      <td>Apr-15</td>\n",
       "      <td>Adoption</td>\n",
       "      <td>NaN</td>\n",
       "      <td>Dog</td>\n",
       "      <td>Spayed Female</td>\n",
       "      <td>5 months</td>\n",
       "      <td>Australian Cattle Dog Mix</td>\n",
       "      <td>White/Brown Brindle</td>\n",
       "    </tr>\n",
       "    <tr>\n",
       "      <th>50</th>\n",
       "      <td>A699917</td>\n",
       "      <td>2/4/15</td>\n",
       "      <td>Max</td>\n",
       "      <td>2015-04-08T00:00:00-05:00</td>\n",
       "      <td>Apr-15</td>\n",
       "      <td>Adoption</td>\n",
       "      <td>NaN</td>\n",
       "      <td>Dog</td>\n",
       "      <td>Spayed Female</td>\n",
       "      <td>2 months</td>\n",
       "      <td>Labrador Retriever Mix</td>\n",
       "      <td>Black/White</td>\n",
       "    </tr>\n",
       "    <tr>\n",
       "      <th>...</th>\n",
       "      <td>...</td>\n",
       "      <td>...</td>\n",
       "      <td>...</td>\n",
       "      <td>...</td>\n",
       "      <td>...</td>\n",
       "      <td>...</td>\n",
       "      <td>...</td>\n",
       "      <td>...</td>\n",
       "      <td>...</td>\n",
       "      <td>...</td>\n",
       "      <td>...</td>\n",
       "      <td>...</td>\n",
       "    </tr>\n",
       "    <tr>\n",
       "      <th>131129</th>\n",
       "      <td>A917477</td>\n",
       "      <td>11/6/23</td>\n",
       "      <td>Canelo</td>\n",
       "      <td>2025-05-04T17:53:00</td>\n",
       "      <td>May-25</td>\n",
       "      <td>Adoption</td>\n",
       "      <td>NaN</td>\n",
       "      <td>Dog</td>\n",
       "      <td>Neutered Male</td>\n",
       "      <td>1 year</td>\n",
       "      <td>Mastiff/Pit Bull</td>\n",
       "      <td>Brown Brindle</td>\n",
       "    </tr>\n",
       "    <tr>\n",
       "      <th>131130</th>\n",
       "      <td>A926142</td>\n",
       "      <td>7/6/24</td>\n",
       "      <td>*Big Red</td>\n",
       "      <td>2025-05-04T18:03:00</td>\n",
       "      <td>May-25</td>\n",
       "      <td>Adoption</td>\n",
       "      <td>NaN</td>\n",
       "      <td>Dog</td>\n",
       "      <td>Neutered Male</td>\n",
       "      <td>9 months</td>\n",
       "      <td>Labrador Retriever Mix</td>\n",
       "      <td>Red</td>\n",
       "    </tr>\n",
       "    <tr>\n",
       "      <th>131131</th>\n",
       "      <td>A928232</td>\n",
       "      <td>4/10/23</td>\n",
       "      <td>Gus</td>\n",
       "      <td>2025-05-04T18:08:00</td>\n",
       "      <td>May-25</td>\n",
       "      <td>Adoption</td>\n",
       "      <td>NaN</td>\n",
       "      <td>Dog</td>\n",
       "      <td>Neutered Male</td>\n",
       "      <td>2 years</td>\n",
       "      <td>Mastiff</td>\n",
       "      <td>Brown/Black</td>\n",
       "    </tr>\n",
       "    <tr>\n",
       "      <th>131134</th>\n",
       "      <td>A929205</td>\n",
       "      <td>12/2/24</td>\n",
       "      <td>Max</td>\n",
       "      <td>2025-05-04T18:46:00</td>\n",
       "      <td>May-25</td>\n",
       "      <td>Adoption</td>\n",
       "      <td>NaN</td>\n",
       "      <td>Dog</td>\n",
       "      <td>Neutered Male</td>\n",
       "      <td>5 months</td>\n",
       "      <td>Australian Cattle Dog</td>\n",
       "      <td>White/Black</td>\n",
       "    </tr>\n",
       "    <tr>\n",
       "      <th>131135</th>\n",
       "      <td>A848454</td>\n",
       "      <td>4/20/14</td>\n",
       "      <td>Olli</td>\n",
       "      <td>2025-05-04T18:53:00</td>\n",
       "      <td>May-25</td>\n",
       "      <td>Adoption</td>\n",
       "      <td>NaN</td>\n",
       "      <td>Cat</td>\n",
       "      <td>Spayed Female</td>\n",
       "      <td>11 years</td>\n",
       "      <td>Domestic Shorthair Mix</td>\n",
       "      <td>Orange Tabby</td>\n",
       "    </tr>\n",
       "  </tbody>\n",
       "</table>\n",
       "<p>65308 rows × 12 columns</p>\n",
       "</div>"
      ],
      "text/plain": [
       "       Animal ID Date of Birth         Name                   DateTime  \\\n",
       "8        A683090       4/22/14  Jenny Tyson  2014-07-11T00:00:00-05:00   \n",
       "32       A698568       3/13/12        Bella  2015-03-14T00:00:00-05:00   \n",
       "47       A699357      10/16/14        *Finn  2015-04-02T00:00:00-05:00   \n",
       "48       A699358      10/16/14       *Lacey  2015-04-03T00:00:00-05:00   \n",
       "50       A699917        2/4/15          Max  2015-04-08T00:00:00-05:00   \n",
       "...          ...           ...          ...                        ...   \n",
       "131129   A917477       11/6/23       Canelo        2025-05-04T17:53:00   \n",
       "131130   A926142        7/6/24     *Big Red        2025-05-04T18:03:00   \n",
       "131131   A928232       4/10/23          Gus        2025-05-04T18:08:00   \n",
       "131134   A929205       12/2/24          Max        2025-05-04T18:46:00   \n",
       "131135   A848454       4/20/14         Olli        2025-05-04T18:53:00   \n",
       "\n",
       "       MonthYear Outcome Type Outcome Subtype Animal Type Sex upon Outcome  \\\n",
       "8         Jul-14     Adoption             NaN         Dog    Spayed Female   \n",
       "32        Mar-15     Adoption             NaN         Dog    Intact Female   \n",
       "47        Apr-15     Adoption             NaN         Dog    Neutered Male   \n",
       "48        Apr-15     Adoption             NaN         Dog    Spayed Female   \n",
       "50        Apr-15     Adoption             NaN         Dog    Spayed Female   \n",
       "...          ...          ...             ...         ...              ...   \n",
       "131129    May-25     Adoption             NaN         Dog    Neutered Male   \n",
       "131130    May-25     Adoption             NaN         Dog    Neutered Male   \n",
       "131131    May-25     Adoption             NaN         Dog    Neutered Male   \n",
       "131134    May-25     Adoption             NaN         Dog    Neutered Male   \n",
       "131135    May-25     Adoption             NaN         Cat    Spayed Female   \n",
       "\n",
       "       Age upon Outcome                      Breed                Color  \n",
       "8              2 months        Black Mouth Cur Mix          Brown/Black  \n",
       "32              3 years        Chihuahua Shorthair                Sable  \n",
       "47             5 months  Australian Cattle Dog Mix       White/Red Tick  \n",
       "48             5 months  Australian Cattle Dog Mix  White/Brown Brindle  \n",
       "50             2 months     Labrador Retriever Mix          Black/White  \n",
       "...                 ...                        ...                  ...  \n",
       "131129           1 year           Mastiff/Pit Bull        Brown Brindle  \n",
       "131130         9 months     Labrador Retriever Mix                  Red  \n",
       "131131          2 years                    Mastiff          Brown/Black  \n",
       "131134         5 months      Australian Cattle Dog          White/Black  \n",
       "131135         11 years     Domestic Shorthair Mix         Orange Tabby  \n",
       "\n",
       "[65308 rows x 12 columns]"
      ]
     },
     "execution_count": 393,
     "metadata": {},
     "output_type": "execute_result"
    }
   ],
   "source": [
    "adpotion_missing"
   ]
  },
  {
   "cell_type": "code",
   "execution_count": 394,
   "id": "5150a7c4-c332-4d10-b14c-70d4a42baaba",
   "metadata": {},
   "outputs": [
    {
     "data": {
      "text/plain": [
       "65308"
      ]
     },
     "execution_count": 394,
     "metadata": {},
     "output_type": "execute_result"
    }
   ],
   "source": [
    "len(adpotion_missing)"
   ]
  },
  {
   "cell_type": "code",
   "execution_count": 395,
   "id": "1aeea00c-cf3d-4cb8-b068-4ed14ecd7dcb",
   "metadata": {},
   "outputs": [],
   "source": [
    "# most missing Outcome Subtype are the adoptions outcome type"
   ]
  },
  {
   "cell_type": "code",
   "execution_count": 396,
   "id": "b0862b18-b02e-4adb-851c-32e6084ec5bd",
   "metadata": {},
   "outputs": [],
   "source": [
    "adoption_mode = (animals[animals['Outcome Type'] == 'Adoption']['Outcome Subtype'].mode()[0])"
   ]
  },
  {
   "cell_type": "code",
   "execution_count": 397,
   "id": "255bdcae-28d0-4db9-aa26-b36c8e30401b",
   "metadata": {},
   "outputs": [
    {
     "data": {
      "text/plain": [
       "'Foster'"
      ]
     },
     "execution_count": 397,
     "metadata": {},
     "output_type": "execute_result"
    }
   ],
   "source": [
    "adoption_mode"
   ]
  },
  {
   "cell_type": "code",
   "execution_count": 398,
   "id": "e47b3641-c886-4bea-b301-0d9369b08480",
   "metadata": {},
   "outputs": [
    {
     "name": "stderr",
     "output_type": "stream",
     "text": [
      "/tmp/ipykernel_41/4209187715.py:1: FutureWarning: A value is trying to be set on a copy of a DataFrame or Series through chained assignment using an inplace method.\n",
      "The behavior will change in pandas 3.0. This inplace method will never work because the intermediate object on which we are setting values always behaves as a copy.\n",
      "\n",
      "For example, when doing 'df[col].method(value, inplace=True)', try using 'df.method({col: value}, inplace=True)' or df[col] = df[col].method(value) instead, to perform the operation inplace on the original object.\n",
      "\n",
      "\n",
      "  animals['Outcome Subtype'].fillna('Foster', inplace= True)\n"
     ]
    }
   ],
   "source": [
    "animals['Outcome Subtype'].fillna('Foster', inplace= True)"
   ]
  },
  {
   "cell_type": "code",
   "execution_count": 399,
   "id": "d8bd2422-61d2-4fe5-a977-8d8e4536d327",
   "metadata": {
    "scrolled": true
   },
   "outputs": [
    {
     "name": "stdout",
     "output_type": "stream",
     "text": [
      "<class 'pandas.core.frame.DataFrame'>\n",
      "RangeIndex: 131148 entries, 0 to 131147\n",
      "Data columns (total 12 columns):\n",
      " #   Column            Non-Null Count   Dtype \n",
      "---  ------            --------------   ----- \n",
      " 0   Animal ID         131148 non-null  object\n",
      " 1   Date of Birth     131148 non-null  object\n",
      " 2   Name              131148 non-null  object\n",
      " 3   DateTime          131148 non-null  object\n",
      " 4   MonthYear         131148 non-null  object\n",
      " 5   Outcome Type      131108 non-null  object\n",
      " 6   Outcome Subtype   131148 non-null  object\n",
      " 7   Animal Type       131148 non-null  object\n",
      " 8   Sex upon Outcome  131148 non-null  object\n",
      " 9   Age upon Outcome  131148 non-null  object\n",
      " 10  Breed             131148 non-null  object\n",
      " 11  Color             131148 non-null  object\n",
      "dtypes: object(12)\n",
      "memory usage: 12.0+ MB\n"
     ]
    }
   ],
   "source": [
    "animals.info()"
   ]
  },
  {
   "cell_type": "code",
   "execution_count": 400,
   "id": "bf09244c-ca14-46ca-a624-c659c67b0356",
   "metadata": {},
   "outputs": [],
   "source": [
    "animals = animals.dropna(subset=['Outcome Type'])"
   ]
  },
  {
   "cell_type": "code",
   "execution_count": 401,
   "id": "e04a150f-9175-4f12-8f52-86814fe43dc7",
   "metadata": {
    "scrolled": true
   },
   "outputs": [
    {
     "name": "stdout",
     "output_type": "stream",
     "text": [
      "<class 'pandas.core.frame.DataFrame'>\n",
      "Index: 131108 entries, 0 to 131147\n",
      "Data columns (total 12 columns):\n",
      " #   Column            Non-Null Count   Dtype \n",
      "---  ------            --------------   ----- \n",
      " 0   Animal ID         131108 non-null  object\n",
      " 1   Date of Birth     131108 non-null  object\n",
      " 2   Name              131108 non-null  object\n",
      " 3   DateTime          131108 non-null  object\n",
      " 4   MonthYear         131108 non-null  object\n",
      " 5   Outcome Type      131108 non-null  object\n",
      " 6   Outcome Subtype   131108 non-null  object\n",
      " 7   Animal Type       131108 non-null  object\n",
      " 8   Sex upon Outcome  131108 non-null  object\n",
      " 9   Age upon Outcome  131108 non-null  object\n",
      " 10  Breed             131108 non-null  object\n",
      " 11  Color             131108 non-null  object\n",
      "dtypes: object(12)\n",
      "memory usage: 13.0+ MB\n"
     ]
    }
   ],
   "source": [
    "animals.info()"
   ]
  },
  {
   "cell_type": "code",
   "execution_count": 402,
   "id": "757fd1fe-a877-4f00-b3bb-6701c194a5e0",
   "metadata": {},
   "outputs": [],
   "source": [
    "# the code below was generated by AI; See [1]\n",
    "# change the Age upon outcome to float Part 1(6)"
   ]
  },
  {
   "cell_type": "code",
   "execution_count": 403,
   "id": "1d05815c-e76a-423e-8c49-e6a960f760e5",
   "metadata": {},
   "outputs": [],
   "source": [
    "import numpy as np\n",
    "import re"
   ]
  },
  {
   "cell_type": "code",
   "execution_count": 404,
   "id": "b53604c6-2ecb-4198-9800-4e4d83b38b48",
   "metadata": {},
   "outputs": [],
   "source": [
    "unit_to_days = {\"day\":1, \"week\":7, \"month\":30, \"year\":365}\n",
    "\n",
    "def parse_age(s):\n",
    "    if pd.isna(s):\n",
    "        return np.nan\n",
    "    s = str(s).lower().strip()\n",
    "    match = re.match(r\"(\\d+)\\s*(day|week|month|year)s?\", s)\n",
    "    if match:\n",
    "        value, unit = int(match.group(1)), match.group(2)\n",
    "        return value * unit_to_days[unit]\n",
    "    return np.nan"
   ]
  },
  {
   "cell_type": "code",
   "execution_count": 405,
   "id": "b2c4a62e-bfdc-45cc-a81f-836e587789a7",
   "metadata": {},
   "outputs": [],
   "source": [
    "animals['Age_years'] = (animals['Age upon Outcome'].apply(parse_age))/365"
   ]
  },
  {
   "cell_type": "code",
   "execution_count": 406,
   "id": "335813ac-cd26-4629-8563-e563b38f4a9a",
   "metadata": {
    "scrolled": true
   },
   "outputs": [
    {
     "name": "stdout",
     "output_type": "stream",
     "text": [
      "<class 'pandas.core.frame.DataFrame'>\n",
      "Index: 131108 entries, 0 to 131147\n",
      "Data columns (total 13 columns):\n",
      " #   Column            Non-Null Count   Dtype  \n",
      "---  ------            --------------   -----  \n",
      " 0   Animal ID         131108 non-null  object \n",
      " 1   Date of Birth     131108 non-null  object \n",
      " 2   Name              131108 non-null  object \n",
      " 3   DateTime          131108 non-null  object \n",
      " 4   MonthYear         131108 non-null  object \n",
      " 5   Outcome Type      131108 non-null  object \n",
      " 6   Outcome Subtype   131108 non-null  object \n",
      " 7   Animal Type       131108 non-null  object \n",
      " 8   Sex upon Outcome  131108 non-null  object \n",
      " 9   Age upon Outcome  131108 non-null  object \n",
      " 10  Breed             131108 non-null  object \n",
      " 11  Color             131108 non-null  object \n",
      " 12  Age_years         131108 non-null  float64\n",
      "dtypes: float64(1), object(12)\n",
      "memory usage: 14.0+ MB\n"
     ]
    }
   ],
   "source": [
    "animals.info()"
   ]
  },
  {
   "cell_type": "code",
   "execution_count": 407,
   "id": "56b726fb-6dd2-4509-901b-e60769c8492c",
   "metadata": {},
   "outputs": [],
   "source": [
    "# Part 1(4) Visualize the dataset"
   ]
  },
  {
   "cell_type": "code",
   "execution_count": 408,
   "id": "001cdddb-f77d-4ccd-8172-d056ad120796",
   "metadata": {
    "scrolled": true
   },
   "outputs": [
    {
     "data": {
      "text/plain": [
       "Text(0.5, 0, 'Age (years)')"
      ]
     },
     "execution_count": 408,
     "metadata": {},
     "output_type": "execute_result"
    },
    {
     "data": {
      "image/png": "[encoded data removed]",
      "text/plain": [
       "<Figure size 1200x500 with 1 Axes>"
      ]
     },
     "metadata": {},
     "output_type": "display_data"
    }
   ],
   "source": [
    "import matplotlib.pyplot as plt\n",
    "import seaborn as sns\n",
    "\n",
    "plt.figure(figsize=(12,5))\n",
    "\n",
    "\n",
    "plt.subplot(1,2,1)\n",
    "plt.hist(animals['Age_years'].dropna(), bins=50, color=\"skyblue\", edgecolor=\"black\")\n",
    "plt.title(\"Distribution of Age upon Outcome\")\n",
    "plt.xlabel(\"Age (years)\")"
   ]
  },
  {
   "cell_type": "code",
   "execution_count": 409,
   "id": "83619607-e7da-47e8-9ae8-1f403bf52290",
   "metadata": {},
   "outputs": [],
   "source": [
    "# Comment: Most outcomes occur early in an animals'life, with the majority under two years old "
   ]
  },
  {
   "cell_type": "code",
   "execution_count": 410,
   "id": "13fe3f2a-cf85-473e-9c1b-30385d4a9409",
   "metadata": {},
   "outputs": [
    {
     "data": {
      "text/plain": [
       "array(['Bird', 'Dog', 'Cat', 'Livestock'], dtype=object)"
      ]
     },
     "execution_count": 410,
     "metadata": {},
     "output_type": "execute_result"
    }
   ],
   "source": [
    "animals['Animal Type'].unique()"
   ]
  },
  {
   "cell_type": "code",
   "execution_count": 411,
   "id": "c4762d9d-4e6a-4946-892b-bfbca3826680",
   "metadata": {
    "scrolled": true
   },
   "outputs": [
    {
     "data": {
      "image/png": "[encoded data removed]",
      "text/plain": [
       "<Figure size 640x480 with 1 Axes>"
      ]
     },
     "metadata": {},
     "output_type": "display_data"
    }
   ],
   "source": [
    "counts = animals['Animal Type'].value_counts()\n",
    "\n",
    "plt.bar(counts.index, counts.values, color=\"skyblue\", edgecolor=\"black\")\n",
    "\n",
    "plt.title(\"Distribution of Animal Types\")\n",
    "plt.xlabel(\"Animal Type\")\n",
    "plt.ylabel(\"Count\")\n",
    "plt.show()"
   ]
  },
  {
   "cell_type": "code",
   "execution_count": 412,
   "id": "bd4b4ca7-866e-45d6-a648-65c0057c1b5e",
   "metadata": {},
   "outputs": [],
   "source": [
    "# Comment: Majority of the cases are dogs and cats, and Bird and Livestock is only contribute a small portion an"
   ]
  },
  {
   "cell_type": "code",
   "execution_count": 413,
   "id": "96f96402-1ef0-4749-8bd0-cb8f0149c35f",
   "metadata": {
    "scrolled": true
   },
   "outputs": [
    {
     "data": {
      "image/png": "[encoded data removed]",
      "text/plain": [
       "<Figure size 640x480 with 1 Axes>"
      ]
     },
     "metadata": {},
     "output_type": "display_data"
    }
   ],
   "source": [
    "counts_outcometype = animals['Outcome Type'].value_counts()\n",
    "\n",
    "plt.bar(counts_outcometype.index, counts_outcometype.values, color=\"skyblue\", edgecolor=\"black\")\n",
    "\n",
    "plt.title(\"Distribution of Outcome Types\")\n",
    "plt.xlabel(\"Outcome Type\")\n",
    "plt.ylabel(\"Count\")\n",
    "plt.show()\n",
    "\n"
   ]
  },
  {
   "cell_type": "code",
   "execution_count": 414,
   "id": "7af4c4ec-c4ab-49ab-81b2-5091c2370fd2",
   "metadata": {},
   "outputs": [],
   "source": [
    "# Comment: Adpotion is more frequent than transfer, but transfer still represents a significant portion"
   ]
  },
  {
   "cell_type": "code",
   "execution_count": 415,
   "id": "affed219-e0ee-40d2-8a79-c7b24144473a",
   "metadata": {},
   "outputs": [
    {
     "data": {
      "text/plain": [
       "array(['Unknown', 'Spayed Female', 'Intact Male', 'Intact Female',\n",
       "       'Neutered Male'], dtype=object)"
      ]
     },
     "execution_count": 415,
     "metadata": {},
     "output_type": "execute_result"
    }
   ],
   "source": [
    "animals['Sex upon Outcome'].unique()"
   ]
  },
  {
   "cell_type": "code",
   "execution_count": 416,
   "id": "bf171b19-d4e7-4657-a1f0-71c6fefe5fc7",
   "metadata": {},
   "outputs": [
    {
     "data": {
      "text/plain": [
       "array(['Yellow/Black', 'Brown/Black', 'Brown', 'Black/White', 'Black',\n",
       "       'White', 'Brown/White', 'Tan', 'Blue Tabby', 'Cream', 'Gold',\n",
       "       'Red', 'Fawn/White', 'White/Gray', 'Torbie', 'Sable', 'Yellow',\n",
       "       'White/Black', 'White/Chocolate', 'Cream/Black', 'White/Brown',\n",
       "       'Chocolate/White', 'White/Red Tick', 'White/Brown Brindle',\n",
       "       'Buff/Gray', 'Black/Tan', 'Blue Merle/Black', 'Chocolate',\n",
       "       'White/Tan', 'Tan/White', 'Pink', 'Tricolor', 'Red/White',\n",
       "       'Calico', 'Brown Tabby/White', 'Brown Brindle', 'Blue Tick/Black',\n",
       "       'Blue/White', 'Black/Brown', 'Green/Blue', 'Brown Tabby',\n",
       "       'Orange Tabby', 'Tortie', 'Blue Merle', 'Orange/Tan',\n",
       "       'White/White', 'Orange Tabby/White', 'Cream Tabby',\n",
       "       'Cream Tabby/White', 'Lilac Point', 'Lynx Point', 'Black/Buff',\n",
       "       'White/Cream Tabby', 'Seal Point', 'Blue Merle/White',\n",
       "       'Brown Brindle/White', 'Sable/Buff', 'Chocolate/Tan',\n",
       "       'Brown/Brown', 'Tortie Point', 'Orange/Orange Tabby',\n",
       "       'Black Tabby/White', 'Blue Tabby/White', 'Blue', 'Buff',\n",
       "       'White/Red', 'Fawn/Black', 'Blue/Tan', 'Red/Tan', 'Black Brindle',\n",
       "       'White/Blue Tick', 'White/Blue', 'Red/Black',\n",
       "       'Tricolor/Brown Merle', 'Seal Point/Brown', 'Tan/Black',\n",
       "       'Flame Point', 'Brown Merle', 'White/Blue Merle',\n",
       "       'Brown Merle/Tan', 'Gray/Silver', 'White/Tricolor',\n",
       "       'Black/Brown Brindle', 'Brown/Tan', 'Buff/White', 'Black/Red',\n",
       "       'Yellow/White', 'Fawn', 'Gray', 'Sable/White', 'Cream/White',\n",
       "       'Tortie Point/White', 'Tricolor/White', 'Blue/Tricolor',\n",
       "       'Blue/Black', 'Gray Tabby/White', 'White/Brown Tabby',\n",
       "       'Black Smoke/White', 'Brown Brindle/Black', 'Gray/Brown',\n",
       "       'White/Tortie', 'Gold/Cream', 'Orange', 'Red Tick/White',\n",
       "       'Tortie/White', 'White/Orange Tabby', 'Gray Tabby', 'Black Tabby',\n",
       "       'Silver/Brown', 'Black/Tricolor', 'Torbie/Gray', 'Gold/White',\n",
       "       'Silver/Black', 'Black/Black Brindle', 'White/Orange',\n",
       "       'Blue Tiger/White', 'Gray/White', 'Black Brindle/White',\n",
       "       'Black/Cream', 'Silver/Red', 'Black/Black', 'Liver/White',\n",
       "       'Brown/Red Tick', 'Red Merle', 'White/Yellow', 'Brown Merle/White',\n",
       "       'Black/Blue Tick', 'Orange Tabby/Cream', 'Torbie/White',\n",
       "       'Black/Gray', 'Agouti', 'Lynx Point/White', 'Tricolor/Brown',\n",
       "       'Gray/Gray', 'Gray Tabby/Black', 'Brown/Tricolor', 'Brown Tiger',\n",
       "       'Gray/Blue', 'Silver Tabby/White', 'Tan/Tan', 'Red/Cream',\n",
       "       'Silver Tabby', 'Calico/White', 'Brown Tabby/Black',\n",
       "       'White/Black Tabby', 'Brown/Yellow', 'Blue Point/White',\n",
       "       'White/Cream', 'Orange/White', 'Blue Point', 'Liver/Cream',\n",
       "       'Silver', 'Tan/Cream', 'Red Merle/White', 'White/Buff',\n",
       "       'Black/Blue Merle', 'Calico Point/White', 'White/Blue Tabby',\n",
       "       'Black Smoke', 'Buff/Tan', 'Blue Merle/Tan', 'Liver/Brown Brindle',\n",
       "       'Gray/Tan', 'Chocolate/Black Smoke', 'Blue Merle/Cream',\n",
       "       'Black/Black Smoke', 'Tan/Brown', 'Gold/Buff', 'Apricot',\n",
       "       'Red/Buff', 'Brown Tabby/Orange', 'Calico Point',\n",
       "       'White/Red Merle', 'Black/Silver', 'Blue Merle/Brown',\n",
       "       'Blue Cream', 'Buff/Black', 'Gray/Black', 'Sable/Tan',\n",
       "       'Yellow/Tan', 'Red Tick/Brown Merle', 'Cream/Tan', 'Red Tick/Tan',\n",
       "       'Green', 'Red Tick', 'Apricot/White', 'Tan/Silver', 'Silver/Tan',\n",
       "       'Brown Brindle/Blue Cream', 'Calico/Brown Tabby',\n",
       "       'Red Merle/Black', 'White/Brown Merle', 'Blue Tick/Brown',\n",
       "       'Blue Tick/White', 'Black/Chocolate', 'Brown Tabby/Tortie',\n",
       "       'Seal Point/White', 'Tricolor/Chocolate', 'Chocolate Point',\n",
       "       'Lynx Point/Brown Tabby', 'Gray/Cream', 'Blue Cream/Blue Tabby',\n",
       "       'Lynx Point/Gray Tabby', 'Blue Tabby/Blue Cream', 'Sable/Black',\n",
       "       'Tan/Buff', 'White/Gray Tabby', 'Red/Tricolor',\n",
       "       'Tortie/Blue Cream', 'Tan/Gray', 'Blue Tick',\n",
       "       'White/Yellow Brindle', 'Sable/Red Merle', 'White/Black Brindle',\n",
       "       'Tan/Red', 'White/Apricot', 'Blue/Brown Brindle', 'Blue Tick/Tan',\n",
       "       'Blue Cream/Buff', 'Calico/Blue Cream', 'White/Brown Tiger',\n",
       "       'Yellow Brindle/White', 'Cream/Red', 'Chocolate/Red',\n",
       "       'Tricolor/Blue Merle', 'White/Silver', 'Brown Merle/Black',\n",
       "       'Chocolate Point/White', 'Blue Smoke/Brown', 'White/Blue Cream',\n",
       "       'Ruddy/Cream', 'Chocolate/Brown', 'Blue Merle/Tricolor',\n",
       "       'Brown/Red', 'Tricolor/Tan', 'Red/Brown', 'Fawn/Blue',\n",
       "       'Black Smoke/Black', 'Tan/Yellow', 'Sable/Brown',\n",
       "       'Black/Brown Merle', 'White/Pink', 'Brown/Gray', 'Yellow Brindle',\n",
       "       'Chocolate/Tricolor', 'Brown/Red Merle', 'Red Tick/Orange',\n",
       "       'Blue Tick/Brown Brindle', 'Gold/Black', 'Black/Blue',\n",
       "       'Blue Tick/Red Tick', 'Calico/Blue Tabby', 'Gold/Yellow',\n",
       "       'Fawn/Brown', 'Tan/Apricot', 'Red/Red Merle', 'Blue Merle/Red',\n",
       "       'Liver Tick/White', 'Liver/Tan', 'Chocolate/Black',\n",
       "       'Tortie/Orange', 'Calico/Orange Tabby', 'Brown Tabby/Gray Tabby',\n",
       "       'Gray/Yellow', 'Cream/Gray', 'Red/Red Tick', 'Red Tick/Black',\n",
       "       'Tan/Tricolor', 'Black Brindle/Brown', 'Tortie/Black',\n",
       "       'Red Tick/Blue Tick', 'Green/Yellow', 'Silver Lynx Point',\n",
       "       'Gold/Tan', 'Brown/Chocolate', 'Agouti/Brown Tabby', 'Green/White',\n",
       "       'Buff/Brown', 'White/Liver', 'Brown/Silver', 'Black/Orange',\n",
       "       'Blue/Gray', 'Buff/Yellow', 'Silver Tabby/Black', 'Red/Silver',\n",
       "       'Gray/Gold', 'Tricolor/Black', 'Brown Brindle/Red Tick',\n",
       "       'Blue/Cream', 'Chocolate/Brown Merle', 'White/Lynx Point',\n",
       "       'Red Tick/Red', 'Cream/Orange', 'Brown Tabby/Brown',\n",
       "       'Chocolate/Brown Brindle', 'White/Black Smoke', 'Cream/Red Tick',\n",
       "       'Red Tick/Brown', 'Chocolate/Cream', 'Chocolate/Red Tick',\n",
       "       'White/Flame Point', 'Blue Tabby/Cream', 'Black Smoke/Brown Tabby',\n",
       "       'Brown/Cream', 'Calico/Black', 'Blue Merle/Red Merle',\n",
       "       'Brown Tabby/Black Brindle', 'Blue Tiger', 'Fawn/Brown Brindle',\n",
       "       'Red/Blue', 'Torbie/Blue Cream', 'Blue Tick/Red',\n",
       "       'White/Seal Point', 'Black/Yellow Brindle', 'Fawn/Tan',\n",
       "       'Blue Cream/Blue Tiger', 'Blue Merle/Blue Merle',\n",
       "       'Yellow Brindle/Blue', 'Black/Green', 'Red/Green',\n",
       "       'Brown Brindle/Blue', 'Tricolor/Blue', 'Blue/Calico',\n",
       "       'Brown Brindle/Brown', 'Blue/Brown', 'Silver/White',\n",
       "       'Brown Brindle/Brown Brindle', 'Liver Tick', 'Blue Cream/Tortie',\n",
       "       'Sable/Cream', 'Liver', 'Brown Tiger/White',\n",
       "       'Blue Merle/Brown Brindle', 'Sable/Red', 'Calico/Tricolor',\n",
       "       'Chocolate/Gold', 'Silver/Chocolate', 'Blue/Yellow Brindle',\n",
       "       'Calico/Brown', 'Gray/Red', 'Brown/Buff', 'Gray/Buff', 'Tan/Blue',\n",
       "       'Brown Tabby/Gray', 'Fawn/Gray', 'Torbie/Brown', 'Fawn/Tricolor',\n",
       "       'Fawn/Chocolate', 'Blue Smoke/White', 'Red/Gold', 'Black/Tortie',\n",
       "       'Buff/Red', 'White/Chocolate Point', 'Blue Smoke', 'Red/Red',\n",
       "       'Blue Tabby/Tan', 'Red/Gray', 'Brown Brindle/Blue Tick',\n",
       "       'Black Tiger/White', 'Tricolor/Calico', 'Blue/Tortie',\n",
       "       'Orange Tabby/Black', 'Orange Tabby/Tortie Point', 'Tortie/Calico',\n",
       "       'Brown Brindle/Tan', 'Black/Silver Tabby', 'Brown/Black Tabby',\n",
       "       'Tortie/Brown', 'Blue/Orange', 'Tan/Red Tick',\n",
       "       'Brown Merle/Blue Merle', 'White/Calico', 'Brown Merle/Brown',\n",
       "       'Black/Black Tabby', 'Gray/Tricolor', 'Tortie Point/Lynx Point',\n",
       "       'Black/Yellow', 'Silver/Cream', 'Tortie/Black Smoke',\n",
       "       'Blue Cream/White', 'Blue/Yellow', 'Sable/Gray', 'Cream/Brown',\n",
       "       'Apricot/Brown', 'Blue Tabby/Orange', 'Lilac Point/White',\n",
       "       'Green/Gray', 'Chocolate/Brown Tabby', 'Tortie/Blue',\n",
       "       'Gray/Tortie', 'Silver/Gray', 'Agouti/White', 'Brown Tabby/Blue',\n",
       "       'Brown Tabby/Orange Tabby', 'Flame Point/Cream',\n",
       "       'Torbie/Blue Tabby', 'Brown/Green', 'Chocolate/Yellow',\n",
       "       'Torbie/Brown Tabby', 'Black/Gold', 'Black/Brown Tabby',\n",
       "       'Flame Point/White', 'Yellow/Orange', 'Cream/Silver',\n",
       "       'Lynx Point/Tan', 'Orange Tabby/Brown', 'Brown Tabby/Brown Tabby',\n",
       "       'Orange Tabby/Orange', 'Orange Tabby/Orange Tabby', 'Blue/Blue',\n",
       "       'Gold/Gold', 'Black Smoke/Blue Tick', 'Cream/Seal Point',\n",
       "       'Gold/Brown', 'Calico/Calico', 'Red/Yellow', 'Tortie/Blue Tabby',\n",
       "       'Cream Tabby/Cream Tabby', 'Black/Gray Tabby',\n",
       "       'Silver Lynx Point/Gray', 'Lynx Point/Tortie Point', 'Blue/Silver',\n",
       "       'Seal Point/Gray', 'White/Calico Point', 'Brown Tabby/Cream',\n",
       "       'White/Liver Tick', 'Yellow/Cream', 'Liver/Chocolate',\n",
       "       'Brown/Brown Brindle', 'Brown/Brown Tabby', 'Yellow/Orange Tabby',\n",
       "       'Green/Black', 'Tricolor/Brown Brindle', 'Chocolate/Chocolate',\n",
       "       'White/Fawn', 'Blue Smoke/Gray', 'Blue/Green', 'White/Lilac Point',\n",
       "       'Cream/Yellow', 'Cream/Brown Merle', 'Red Merle/Brown Merle',\n",
       "       'Brown Merle/Brown Tabby', 'Torbie/Black',\n",
       "       'Black Tabby/Gray Tabby', 'Calico/Orange', 'Brown Tiger/Brown',\n",
       "       'White/Silver Tabby', 'Cream Tabby/Orange', 'Blue Tabby/Buff',\n",
       "       'Torbie/Silver Tabby', 'Lynx Point/Blue', 'Cream/Blue Point',\n",
       "       'Gray Tabby/Orange', 'Tortie/Tortie', 'Seal Point/Buff',\n",
       "       'Black Brindle/Black', 'Calico Point/Gray', 'Seal Point/Cream',\n",
       "       'Blue Point/Cream', 'White/Green', 'Tortie Point/Blue',\n",
       "       'Blue Tick/Tricolor', 'Brown Tabby/Agouti',\n",
       "       'Red Tick/Brown Brindle', 'Cream Tabby/Orange Tabby',\n",
       "       'White/Black Tiger', 'Gray Tabby/Gray', 'Silver Lynx Point/White',\n",
       "       'Gold/Gray', 'Brown/Black Brindle', 'Black Tiger',\n",
       "       'Tricolor/Cream', 'Gray/Green', 'Lilac Point/Black',\n",
       "       'Brown Tabby/Calico', 'Brown Brindle/Tricolor', 'Yellow/Green',\n",
       "       'Blue Merle/Gray', 'Gray/Blue Merle', 'Liver/Liver Tick',\n",
       "       'Black/Fawn', 'Brown Tabby/Silver', 'Brown Brindle/Liver Tick',\n",
       "       'Lilac Point/Gray', 'Green/Silver', 'Tricolor/Red',\n",
       "       'Brown Tabby/Lynx Point', 'Agouti/Cream', 'Tortie/Gray',\n",
       "       'Buff/Cream', 'Yellow/Brown', 'Yellow/Red', 'Lynx Point/Gray',\n",
       "       'Red/Brown Brindle', 'Green/Red', 'Cream/Tricolor',\n",
       "       'Black Brindle/Brown Brindle', 'Brown/Liver', 'Tan/Fawn',\n",
       "       'Yellow/Gray', 'Tricolor/Gray', 'Tan/Brown Brindle',\n",
       "       'Calico Point/Lynx Point', 'Black Brindle/Tan', 'Orange Tiger',\n",
       "       'White/Agouti', 'White/Tortie Point', 'Lynx Point/Cream',\n",
       "       'Cream/Blue', 'Brown Merle/Chocolate', 'Gray/Gray Tabby',\n",
       "       'Brown/Black Smoke', 'Fawn/Cream', 'Red Tick/Tricolor',\n",
       "       'White/Blue Tiger', 'Chocolate/Blue Tick', 'Tan/Chocolate Point',\n",
       "       'Black Smoke/Black Tabby', 'Tan/Red Merle', 'Brown/Fawn',\n",
       "       'Gray/Fawn', 'Blue Tabby/Tortie', 'Brown/Orange',\n",
       "       'Tricolor/Red Tick', 'Tortie Point/Seal Point',\n",
       "       'Tricolor/Blue Tick', 'Chocolate/Fawn', 'Cream Tiger/Brown Tabby',\n",
       "       'Blue Tabby/Brown', 'Brown/Gold', 'Silver/Silver Tabby',\n",
       "       'Chocolate/Seal Point', 'Chocolate Point/Cream', 'Tortie/Gold',\n",
       "       'Cream/Gold', 'Brown/Seal Point', 'Liver/Blue',\n",
       "       'Brown Brindle/Black Brindle', 'Brown Brindle/Gray',\n",
       "       'Brown Brindle/Brown Merle', 'White/Gray Tiger', 'Calico/Gray',\n",
       "       'Red Merle/Brown', 'Blue/Blue Merle', 'Blue/Gold', 'Tan/Blue Tick',\n",
       "       'Blue/Fawn', 'Yellow Brindle/Black', 'Blue Point/Lynx Point',\n",
       "       'Brown Tiger/Cream', 'Liver Tick/Brown', 'Orange/Tricolor',\n",
       "       'Brown Tabby/Tan', 'Buff/Red Tick', 'Tricolor/Fawn',\n",
       "       'Black Tabby/Black Smoke', 'Blue/Blue Tick', 'Cream/Brown Tabby',\n",
       "       'Cream/Cream', 'Lynx Point/Blue Point', 'White/Gold',\n",
       "       'Buff/Blue Merle', 'Orange Tabby/Tan', 'Chocolate/Gray',\n",
       "       'Black Tabby/Brown', 'Brown Brindle/Chocolate', 'Gray Tabby/Brown',\n",
       "       'Blue Tabby/Black', 'Black Tabby/Gray', 'Yellow/Blue',\n",
       "       'Gray Tabby/Tan', 'Silver/Gray Tabby', 'Tortie/Blue Merle',\n",
       "       'Seal Point/Silver', 'Red Merle/Red Tick', 'Black Brindle/Yellow',\n",
       "       'Blue Tabby/Brown Tabby', 'Torbie/Orange', 'Blue Smoke/Tan',\n",
       "       'Fawn/Yellow', 'Cream/Green', 'Blue Tiger/Black',\n",
       "       'Brown Tiger/Black', 'Brown Merle/Brown Merle',\n",
       "       'Blue/Black Brindle', 'Blue Merle/Brown Merle',\n",
       "       'Brown/Brown Tiger', 'Brown Tabby/Gold', 'Ruddy',\n",
       "       'Black Brindle/Blue Tick', 'Tricolor/Tortie', 'Yellow/Yellow',\n",
       "       'Brown Tabby/Red', 'Agouti/Gold', 'Tricolor/Orange',\n",
       "       'Brown Tabby/Liver', 'Cream/Chocolate', 'Gray/Calico',\n",
       "       'Black/Calico'], dtype=object)"
      ]
     },
     "execution_count": 416,
     "metadata": {},
     "output_type": "execute_result"
    }
   ],
   "source": [
    "animals['Color'].unique()"
   ]
  },
  {
   "cell_type": "code",
   "execution_count": 417,
   "id": "7dcd069a-08d5-45b2-af53-381b579237a3",
   "metadata": {
    "scrolled": true
   },
   "outputs": [
    {
     "data": {
      "image/png": "[encoded data removed]",
      "text/plain": [
       "<Figure size 1200x500 with 1 Axes>"
      ]
     },
     "metadata": {},
     "output_type": "display_data"
    }
   ],
   "source": [
    "counts_sextype = animals['Sex upon Outcome'].value_counts()\n",
    "plt.figure(figsize=(12,5))\n",
    "plt.bar(counts_sextype.index, counts_sextype.values, color=\"skyblue\", edgecolor=\"black\")\n",
    "plt.title(\"Distribution of Sex upon Outcome Types\")\n",
    "plt.xlabel(\"Outcome Type\")\n",
    "plt.ylabel(\"Count\")\n",
    "plt.show()"
   ]
  },
  {
   "cell_type": "code",
   "execution_count": 418,
   "id": "690a745d-071d-4444-be7e-6c3bc0677fb7",
   "metadata": {},
   "outputs": [],
   "source": [
    "# Most animals have outcomes are Neutered Male and Spayed Female, with fewer intact Female and Intact Male"
   ]
  },
  {
   "cell_type": "code",
   "execution_count": 419,
   "id": "b6d35a34-7695-40be-b2cb-ef618c95c5a6",
   "metadata": {},
   "outputs": [],
   "source": [
    "# Part 1(6) Convert data to categorcial datatype"
   ]
  },
  {
   "cell_type": "code",
   "execution_count": 420,
   "id": "ac6eef67-80bb-4b51-ae80-1f0629066fa8",
   "metadata": {
    "scrolled": true
   },
   "outputs": [],
   "source": [
    "cat_cols = ['Animal Type', 'Outcome Type','Outcome Subtype', 'Breed', 'Color', 'Sex upon Outcome']\n",
    "for col in cat_cols:\n",
    "    animals[col] = animals[col].astype('category')"
   ]
  },
  {
   "cell_type": "code",
   "execution_count": 421,
   "id": "b238079d-5abc-426e-a7d4-2e88268971e2",
   "metadata": {},
   "outputs": [],
   "source": [
    "animals_encoded = pd.get_dummies(animals, columns=cat_cols, drop_first=True)"
   ]
  },
  {
   "cell_type": "code",
   "execution_count": 422,
   "id": "7ea44270-2941-4e29-bb6a-425f74551a53",
   "metadata": {},
   "outputs": [],
   "source": [
    "# Part 1(5) drop irrelevant columns"
   ]
  },
  {
   "cell_type": "code",
   "execution_count": 423,
   "id": "84c5fac1-e1ae-425a-a187-8f9fbad39bbc",
   "metadata": {},
   "outputs": [],
   "source": [
    "column_drop = [\"Name\",\"Animal ID\", \"Date of Birth\", \"DateTime\", \"MonthYear\", \"Breed\",\"Outcome Subtype\",\"Age upon Outcome\"]"
   ]
  },
  {
   "cell_type": "code",
   "execution_count": 424,
   "id": "69b7773d-381b-412a-9940-4e5cca70c754",
   "metadata": {},
   "outputs": [],
   "source": [
    "animals_train = animals.drop(columns = column_drop)"
   ]
  },
  {
   "cell_type": "code",
   "execution_count": 425,
   "id": "89745cac-3eee-4b28-a092-75e3b44e967e",
   "metadata": {
    "scrolled": true
   },
   "outputs": [
    {
     "name": "stdout",
     "output_type": "stream",
     "text": [
      "<class 'pandas.core.frame.DataFrame'>\n",
      "Index: 131108 entries, 0 to 131147\n",
      "Data columns (total 5 columns):\n",
      " #   Column            Non-Null Count   Dtype   \n",
      "---  ------            --------------   -----   \n",
      " 0   Outcome Type      131108 non-null  category\n",
      " 1   Animal Type       131108 non-null  category\n",
      " 2   Sex upon Outcome  131108 non-null  category\n",
      " 3   Color             131108 non-null  category\n",
      " 4   Age_years         131108 non-null  float64 \n",
      "dtypes: category(4), float64(1)\n",
      "memory usage: 2.6 MB\n"
     ]
    }
   ],
   "source": [
    "animals_train.info()"
   ]
  },
  {
   "cell_type": "code",
   "execution_count": 426,
   "id": "0f61d693-a8ec-4751-af11-99d2eb20015b",
   "metadata": {},
   "outputs": [],
   "source": [
    "# Since color have to many types, convert the color type to light, darck and other"
   ]
  },
  {
   "cell_type": "code",
   "execution_count": 427,
   "id": "ec99c33a-4c02-4f7f-b14e-9f832bd9b5c6",
   "metadata": {},
   "outputs": [],
   "source": [
    "dark_colors  = {'black','brown','blue','gray','red','chocolate','sable'}\n",
    "light_colors = {'white','tan','yellow','cream','orange','fawn','silver','buff'}\n",
    "\n",
    "animals_train['MainColor'] = (\n",
    "    animals_train['Color'].str.split('/').str[0].str.strip().str.lower()\n",
    ")\n",
    "\n",
    "def map_color(c):\n",
    "    if pd.isna(c):\n",
    "        return \"Other\"\n",
    "    c = c.strip().lower()\n",
    "\n",
    "    if \"tabby\" in c:\n",
    "        return \"Light\" if \"orange\" in c else \"Dark\"\n",
    "    if any(x in c for x in [\"tortie\",\"torbie\",\"brindle\",\"calico\",\"tricolor\"]):\n",
    "        return \"Other\"\n",
    "\n",
    "    if any(k in c for k in dark_colors):\n",
    "        return \"Dark\"\n",
    "    if any(k in c for k in light_colors):\n",
    "        return \"Light\"\n",
    "\n",
    "    return \"Other\"\n",
    "\n",
    "animals_train['ColorGroup'] = animals_train['MainColor'].apply(map_color)\n"
   ]
  },
  {
   "cell_type": "code",
   "execution_count": 428,
   "id": "71b1b138-a2de-409a-b5f5-72670b700a57",
   "metadata": {
    "scrolled": true
   },
   "outputs": [
    {
     "name": "stdout",
     "output_type": "stream",
     "text": [
      "<class 'pandas.core.frame.DataFrame'>\n",
      "Index: 131108 entries, 0 to 131147\n",
      "Data columns (total 7 columns):\n",
      " #   Column            Non-Null Count   Dtype   \n",
      "---  ------            --------------   -----   \n",
      " 0   Outcome Type      131108 non-null  category\n",
      " 1   Animal Type       131108 non-null  category\n",
      " 2   Sex upon Outcome  131108 non-null  category\n",
      " 3   Color             131108 non-null  category\n",
      " 4   Age_years         131108 non-null  float64 \n",
      " 5   MainColor         131108 non-null  object  \n",
      " 6   ColorGroup        131108 non-null  object  \n",
      "dtypes: category(4), float64(1), object(2)\n",
      "memory usage: 4.6+ MB\n"
     ]
    }
   ],
   "source": [
    "animals_train.info()"
   ]
  },
  {
   "cell_type": "code",
   "execution_count": 429,
   "id": "5ebcad59-f5ab-4761-9ee2-0b1d26d72234",
   "metadata": {},
   "outputs": [
    {
     "data": {
      "text/plain": [
       "array(['Light', 'Dark', 'Other'], dtype=object)"
      ]
     },
     "execution_count": 429,
     "metadata": {},
     "output_type": "execute_result"
    }
   ],
   "source": [
    "animals_train['ColorGroup'].unique()"
   ]
  },
  {
   "cell_type": "code",
   "execution_count": 430,
   "id": "03003229-3473-4ce4-83cf-46667edead62",
   "metadata": {},
   "outputs": [
    {
     "data": {
      "text/plain": [
       "ColorGroup\n",
       "Dark     77979\n",
       "Light    35077\n",
       "Other    18052\n",
       "Name: count, dtype: int64"
      ]
     },
     "execution_count": 430,
     "metadata": {},
     "output_type": "execute_result"
    }
   ],
   "source": [
    "animals_train['ColorGroup'].value_counts()"
   ]
  },
  {
   "cell_type": "code",
   "execution_count": 431,
   "id": "7231d155-91a1-4fc2-bfe7-5f803277d9fb",
   "metadata": {},
   "outputs": [],
   "source": [
    "other_colors = animals_train[animals_train['ColorGroup'] == 'Other']['Color'].value_counts().head(10)"
   ]
  },
  {
   "cell_type": "code",
   "execution_count": 432,
   "id": "490d193e-fb75-4647-9eba-30654813df38",
   "metadata": {
    "scrolled": true
   },
   "outputs": [
    {
     "name": "stdout",
     "output_type": "stream",
     "text": [
      "<class 'pandas.core.frame.DataFrame'>\n",
      "Index: 131108 entries, 0 to 131147\n",
      "Data columns (total 7 columns):\n",
      " #   Column            Non-Null Count   Dtype   \n",
      "---  ------            --------------   -----   \n",
      " 0   Outcome Type      131108 non-null  category\n",
      " 1   Animal Type       131108 non-null  category\n",
      " 2   Sex upon Outcome  131108 non-null  category\n",
      " 3   Color             131108 non-null  category\n",
      " 4   Age_years         131108 non-null  float64 \n",
      " 5   MainColor         131108 non-null  object  \n",
      " 6   ColorGroup        131108 non-null  object  \n",
      "dtypes: category(4), float64(1), object(2)\n",
      "memory usage: 4.6+ MB\n"
     ]
    }
   ],
   "source": [
    "animals_train.info()"
   ]
  },
  {
   "cell_type": "code",
   "execution_count": 433,
   "id": "71542e60-3dfe-4d92-9d3d-2449a5c01ed6",
   "metadata": {},
   "outputs": [],
   "source": [
    "animals_train= animals_train.drop('MainColor', axis=1)"
   ]
  },
  {
   "cell_type": "code",
   "execution_count": 446,
   "id": "20122529-9f94-4da0-b802-a5b4c5806dff",
   "metadata": {},
   "outputs": [],
   "source": [
    "animals_train= animals_train.drop('Color', axis=1)"
   ]
  },
  {
   "cell_type": "code",
   "execution_count": 471,
   "id": "2ba67f23-1067-4fb3-8f97-48cd6f37cbd5",
   "metadata": {},
   "outputs": [],
   "source": [
    "# Part 1 (5)"
   ]
  },
  {
   "cell_type": "code",
   "execution_count": 447,
   "id": "422c170c-dda3-4ee4-81c2-eb45af5b4380",
   "metadata": {},
   "outputs": [
    {
     "name": "stdout",
     "output_type": "stream",
     "text": [
      "<class 'pandas.core.frame.DataFrame'>\n",
      "Index: 131108 entries, 0 to 131147\n",
      "Data columns (total 5 columns):\n",
      " #   Column            Non-Null Count   Dtype   \n",
      "---  ------            --------------   -----   \n",
      " 0   Outcome Type      131108 non-null  category\n",
      " 1   Animal Type       131108 non-null  category\n",
      " 2   Sex upon Outcome  131108 non-null  category\n",
      " 3   Age_years         131108 non-null  float64 \n",
      " 4   ColorGroup        131108 non-null  object  \n",
      "dtypes: category(3), float64(1), object(1)\n",
      "memory usage: 3.4+ MB\n"
     ]
    }
   ],
   "source": [
    "animals_train.info()"
   ]
  },
  {
   "cell_type": "code",
   "execution_count": 448,
   "id": "262141cc-d230-40c4-9822-b5a2a8b20ee2",
   "metadata": {},
   "outputs": [
    {
     "data": {
      "text/plain": [
       "['Transfer', 'Adoption']\n",
       "Categories (2, object): ['Adoption', 'Transfer']"
      ]
     },
     "execution_count": 448,
     "metadata": {},
     "output_type": "execute_result"
    }
   ],
   "source": [
    "animals_train['Outcome Type'].unique()"
   ]
  },
  {
   "cell_type": "code",
   "execution_count": 449,
   "id": "3b83d952-c370-4977-93e1-f6bab0abd6f5",
   "metadata": {},
   "outputs": [],
   "source": [
    "cat_cols = ['Outcome Type', 'Animal Type', 'Sex upon Outcome', 'ColorGroup']"
   ]
  },
  {
   "cell_type": "code",
   "execution_count": 472,
   "id": "d18ff58c-55a2-4420-aa48-770cc418c3a8",
   "metadata": {},
   "outputs": [],
   "source": [
    "# Part 1 (7) one-hot encoding on categorical values "
   ]
  },
  {
   "cell_type": "code",
   "execution_count": 450,
   "id": "bc295aa1-f738-4473-993d-9b54d182a993",
   "metadata": {},
   "outputs": [],
   "source": [
    "animals_trained = pd.get_dummies(animals_train, columns=cat_cols, drop_first=True)"
   ]
  },
  {
   "cell_type": "code",
   "execution_count": 451,
   "id": "962317a4-f8bc-4ef7-afac-065329193d96",
   "metadata": {},
   "outputs": [
    {
     "name": "stdout",
     "output_type": "stream",
     "text": [
      "<class 'pandas.core.frame.DataFrame'>\n",
      "Index: 131108 entries, 0 to 131147\n",
      "Data columns (total 11 columns):\n",
      " #   Column                          Non-Null Count   Dtype  \n",
      "---  ------                          --------------   -----  \n",
      " 0   Age_years                       131108 non-null  float64\n",
      " 1   Outcome Type_Transfer           131108 non-null  bool   \n",
      " 2   Animal Type_Cat                 131108 non-null  bool   \n",
      " 3   Animal Type_Dog                 131108 non-null  bool   \n",
      " 4   Animal Type_Livestock           131108 non-null  bool   \n",
      " 5   Sex upon Outcome_Intact Male    131108 non-null  bool   \n",
      " 6   Sex upon Outcome_Neutered Male  131108 non-null  bool   \n",
      " 7   Sex upon Outcome_Spayed Female  131108 non-null  bool   \n",
      " 8   Sex upon Outcome_Unknown        131108 non-null  bool   \n",
      " 9   ColorGroup_Light                131108 non-null  bool   \n",
      " 10  ColorGroup_Other                131108 non-null  bool   \n",
      "dtypes: bool(10), float64(1)\n",
      "memory usage: 3.3 MB\n"
     ]
    }
   ],
   "source": [
    "animals_trained.info()"
   ]
  },
  {
   "cell_type": "code",
   "execution_count": 473,
   "id": "681d25a0-baa6-4923-89da-484b90960877",
   "metadata": {},
   "outputs": [],
   "source": [
    "# Part 2 Training the model"
   ]
  },
  {
   "cell_type": "code",
   "execution_count": null,
   "id": "22e588a2-c691-4e77-90ef-b683a65a0134",
   "metadata": {},
   "outputs": [],
   "source": [
    "# Part 2(2) split dataset into training and test datasets"
   ]
  },
  {
   "cell_type": "code",
   "execution_count": 453,
   "id": "dc86d957-61da-4c42-998a-68b2e42dafc2",
   "metadata": {},
   "outputs": [],
   "source": [
    "X = animals_trained.drop('Outcome Type_Transfer', axis=1)"
   ]
  },
  {
   "cell_type": "code",
   "execution_count": 454,
   "id": "aff22d60-f89c-43ab-8611-5d8028184750",
   "metadata": {},
   "outputs": [],
   "source": [
    "y = animals_trained['Outcome Type_Transfer']"
   ]
  },
  {
   "cell_type": "code",
   "execution_count": 455,
   "id": "52433494-8117-47f1-9a2c-d5a9600d720e",
   "metadata": {},
   "outputs": [],
   "source": [
    "import sklearn\n",
    "from sklearn import linear_model\n",
    "from sklearn.model_selection import train_test_split\n",
    "from sklearn.neighbors import KNeighborsClassifier\n",
    "from sklearn.model_selection import GridSearchCV"
   ]
  },
  {
   "cell_type": "code",
   "execution_count": 456,
   "id": "3f4eab28-cfa8-4325-85fe-41bde7a6a88e",
   "metadata": {},
   "outputs": [],
   "source": [
    "X_train, X_test, y_train, y_test = train_test_split(X, y, test_size=0.3, stratify=y, random_state=1)"
   ]
  },
  {
   "cell_type": "code",
   "execution_count": 479,
   "id": "affc2f52-5816-4b13-8fe2-61fe43436097",
   "metadata": {},
   "outputs": [],
   "source": [
    "# Part 2(3)K-Nearest Neighbor Classifier "
   ]
  },
  {
   "cell_type": "code",
   "execution_count": 487,
   "id": "e88348f4-85de-434e-9c99-0af62590891e",
   "metadata": {},
   "outputs": [
    {
     "data": {
      "text/html": [
       "<style>#sk-container-id-19 {color: black;}#sk-container-id-19 pre{padding: 0;}#sk-container-id-19 div.sk-toggleable {background-color: white;}#sk-container-id-19 label.sk-toggleable__label {cursor: pointer;display: block;width: 100%;margin-bottom: 0;padding: 0.3em;box-sizing: border-box;text-align: center;}#sk-container-id-19 label.sk-toggleable__label-arrow:before {content: \"▸\";float: left;margin-right: 0.25em;color: #696969;}#sk-container-id-19 label.sk-toggleable__label-arrow:hover:before {color: black;}#sk-container-id-19 div.sk-estimator:hover label.sk-toggleable__label-arrow:before {color: black;}#sk-container-id-19 div.sk-toggleable__content {max-height: 0;max-width: 0;overflow: hidden;text-align: left;background-color: #f0f8ff;}#sk-container-id-19 div.sk-toggleable__content pre {margin: 0.2em;color: black;border-radius: 0.25em;background-color: #f0f8ff;}#sk-container-id-19 input.sk-toggleable__control:checked~div.sk-toggleable__content {max-height: 200px;max-width: 100%;overflow: auto;}#sk-container-id-19 input.sk-toggleable__control:checked~label.sk-toggleable__label-arrow:before {content: \"▾\";}#sk-container-id-19 div.sk-estimator input.sk-toggleable__control:checked~label.sk-toggleable__label {background-color: #d4ebff;}#sk-container-id-19 div.sk-label input.sk-toggleable__control:checked~label.sk-toggleable__label {background-color: #d4ebff;}#sk-container-id-19 input.sk-hidden--visually {border: 0;clip: rect(1px 1px 1px 1px);clip: rect(1px, 1px, 1px, 1px);height: 1px;margin: -1px;overflow: hidden;padding: 0;position: absolute;width: 1px;}#sk-container-id-19 div.sk-estimator {font-family: monospace;background-color: #f0f8ff;border: 1px dotted black;border-radius: 0.25em;box-sizing: border-box;margin-bottom: 0.5em;}#sk-container-id-19 div.sk-estimator:hover {background-color: #d4ebff;}#sk-container-id-19 div.sk-parallel-item::after {content: \"\";width: 100%;border-bottom: 1px solid gray;flex-grow: 1;}#sk-container-id-19 div.sk-label:hover label.sk-toggleable__label {background-color: #d4ebff;}#sk-container-id-19 div.sk-serial::before {content: \"\";position: absolute;border-left: 1px solid gray;box-sizing: border-box;top: 0;bottom: 0;left: 50%;z-index: 0;}#sk-container-id-19 div.sk-serial {display: flex;flex-direction: column;align-items: center;background-color: white;padding-right: 0.2em;padding-left: 0.2em;position: relative;}#sk-container-id-19 div.sk-item {position: relative;z-index: 1;}#sk-container-id-19 div.sk-parallel {display: flex;align-items: stretch;justify-content: center;background-color: white;position: relative;}#sk-container-id-19 div.sk-item::before, #sk-container-id-19 div.sk-parallel-item::before {content: \"\";position: absolute;border-left: 1px solid gray;box-sizing: border-box;top: 0;bottom: 0;left: 50%;z-index: -1;}#sk-container-id-19 div.sk-parallel-item {display: flex;flex-direction: column;z-index: 1;position: relative;background-color: white;}#sk-container-id-19 div.sk-parallel-item:first-child::after {align-self: flex-end;width: 50%;}#sk-container-id-19 div.sk-parallel-item:last-child::after {align-self: flex-start;width: 50%;}#sk-container-id-19 div.sk-parallel-item:only-child::after {width: 0;}#sk-container-id-19 div.sk-dashed-wrapped {border: 1px dashed gray;margin: 0 0.4em 0.5em 0.4em;box-sizing: border-box;padding-bottom: 0.4em;background-color: white;}#sk-container-id-19 div.sk-label label {font-family: monospace;font-weight: bold;display: inline-block;line-height: 1.2em;}#sk-container-id-19 div.sk-label-container {text-align: center;}#sk-container-id-19 div.sk-container {/* jupyter's `normalize.less` sets `[hidden] { display: none; }` but bootstrap.min.css set `[hidden] { display: none !important; }` so we also need the `!important` here to be able to override the default hidden behavior on the sphinx rendered scikit-learn.org. See: https://github.com/scikit-learn/scikit-learn/issues/21755 */display: inline-block !important;position: relative;}#sk-container-id-19 div.sk-text-repr-fallback {display: none;}</style><div id=\"sk-container-id-19\" class=\"sk-top-container\"><div class=\"sk-text-repr-fallback\"><pre>KNeighborsClassifier(n_neighbors=10)</pre><b>In a Jupyter environment, please rerun this cell to show the HTML representation or trust the notebook. <br />On GitHub, the HTML representation is unable to render, please try loading this page with nbviewer.org.</b></div><div class=\"sk-container\" hidden><div class=\"sk-item\"><div class=\"sk-estimator sk-toggleable\"><input class=\"sk-toggleable__control sk-hidden--visually\" id=\"sk-estimator-id-23\" type=\"checkbox\" checked><label for=\"sk-estimator-id-23\" class=\"sk-toggleable__label sk-toggleable__label-arrow\">KNeighborsClassifier</label><div class=\"sk-toggleable__content\"><pre>KNeighborsClassifier(n_neighbors=10)</pre></div></div></div></div></div>"
      ],
      "text/plain": [
       "KNeighborsClassifier(n_neighbors=10)"
      ]
     },
     "execution_count": 487,
     "metadata": {},
     "output_type": "execute_result"
    }
   ],
   "source": [
    "knn = KNeighborsClassifier(n_neighbors=10) # setting the hyperparameter to 15\n",
    "knn.fit(X_train, y_train)"
   ]
  },
  {
   "cell_type": "code",
   "execution_count": 459,
   "id": "3085fc98-d95c-4df9-a860-e1b2a7e87c81",
   "metadata": {},
   "outputs": [],
   "source": [
    "# create a dictionary of all values we want to test "
   ]
  },
  {
   "cell_type": "code",
   "execution_count": 488,
   "id": "f3d64349-7997-4c80-a06a-993170715f26",
   "metadata": {},
   "outputs": [
    {
     "name": "stdout",
     "output_type": "stream",
     "text": [
      "Accuracy of knn on test data is : 0.854499\n",
      "Accuracy of knn on train data is : 0.852443\n"
     ]
    }
   ],
   "source": [
    "from sklearn.metrics import accuracy_score, recall_score, precision_score, f1_score\n",
    "\n",
    "accuracy_test=accuracy_score(y_test, knn.predict(X_test))\n",
    "print('Accuracy of knn on test data is : {:.6}'.format(accuracy_test))\n",
    "\n",
    "# Check accuracy on the training data\n",
    "accuracy_train=accuracy_score(y_train, knn.predict(X_train))\n",
    "print('Accuracy of knn on train data is : {:.6}'.format(accuracy_train))\n"
   ]
  },
  {
   "cell_type": "code",
   "execution_count": 489,
   "id": "ee54c4d8-b9f8-44d5-916e-d41e99f5ef91",
   "metadata": {
    "scrolled": true
   },
   "outputs": [
    {
     "name": "stdout",
     "output_type": "stream",
     "text": [
      "              precision    recall  f1-score   support\n",
      "\n",
      "       False       0.84      0.95      0.89     25074\n",
      "        True       0.88      0.69      0.77     14259\n",
      "\n",
      "    accuracy                           0.85     39333\n",
      "   macro avg       0.86      0.82      0.83     39333\n",
      "weighted avg       0.86      0.85      0.85     39333\n",
      "\n"
     ]
    }
   ],
   "source": [
    "from sklearn.metrics import classification_report\n",
    "\n",
    "y_pred = knn.predict(X_test)\n",
    "print(classification_report(y_test, y_pred))"
   ]
  },
  {
   "cell_type": "code",
   "execution_count": 462,
   "id": "ef879002-76a7-4bf4-bc95-e6cab7f59161",
   "metadata": {},
   "outputs": [],
   "source": [
    "knn_search_accuracy = KNeighborsClassifier()"
   ]
  },
  {
   "cell_type": "code",
   "execution_count": 463,
   "id": "6fdaf778-7ed9-4362-a8b6-301561215a35",
   "metadata": {},
   "outputs": [],
   "source": [
    "param_grid = {\"n_neighbors\":np.arange(1,100)}"
   ]
  },
  {
   "cell_type": "code",
   "execution_count": 464,
   "id": "634ce266-4dfe-466a-9f71-7c8ef9af1672",
   "metadata": {},
   "outputs": [],
   "source": [
    "from sklearn.model_selection import GridSearchCV\n",
    "knn_gscv = GridSearchCV(knn_search_accuracy, param_grid, cv=5)"
   ]
  },
  {
   "cell_type": "code",
   "execution_count": 465,
   "id": "204e114a-c4a5-4060-9e95-00349f39e87c",
   "metadata": {},
   "outputs": [],
   "source": [
    "# Cross validation"
   ]
  },
  {
   "cell_type": "code",
   "execution_count": 466,
   "id": "489347c6-c484-456d-bcbb-e1c76148619e",
   "metadata": {},
   "outputs": [
    {
     "data": {
      "text/html": [
       "<style>#sk-container-id-17 {color: black;}#sk-container-id-17 pre{padding: 0;}#sk-container-id-17 div.sk-toggleable {background-color: white;}#sk-container-id-17 label.sk-toggleable__label {cursor: pointer;display: block;width: 100%;margin-bottom: 0;padding: 0.3em;box-sizing: border-box;text-align: center;}#sk-container-id-17 label.sk-toggleable__label-arrow:before {content: \"▸\";float: left;margin-right: 0.25em;color: #696969;}#sk-container-id-17 label.sk-toggleable__label-arrow:hover:before {color: black;}#sk-container-id-17 div.sk-estimator:hover label.sk-toggleable__label-arrow:before {color: black;}#sk-container-id-17 div.sk-toggleable__content {max-height: 0;max-width: 0;overflow: hidden;text-align: left;background-color: #f0f8ff;}#sk-container-id-17 div.sk-toggleable__content pre {margin: 0.2em;color: black;border-radius: 0.25em;background-color: #f0f8ff;}#sk-container-id-17 input.sk-toggleable__control:checked~div.sk-toggleable__content {max-height: 200px;max-width: 100%;overflow: auto;}#sk-container-id-17 input.sk-toggleable__control:checked~label.sk-toggleable__label-arrow:before {content: \"▾\";}#sk-container-id-17 div.sk-estimator input.sk-toggleable__control:checked~label.sk-toggleable__label {background-color: #d4ebff;}#sk-container-id-17 div.sk-label input.sk-toggleable__control:checked~label.sk-toggleable__label {background-color: #d4ebff;}#sk-container-id-17 input.sk-hidden--visually {border: 0;clip: rect(1px 1px 1px 1px);clip: rect(1px, 1px, 1px, 1px);height: 1px;margin: -1px;overflow: hidden;padding: 0;position: absolute;width: 1px;}#sk-container-id-17 div.sk-estimator {font-family: monospace;background-color: #f0f8ff;border: 1px dotted black;border-radius: 0.25em;box-sizing: border-box;margin-bottom: 0.5em;}#sk-container-id-17 div.sk-estimator:hover {background-color: #d4ebff;}#sk-container-id-17 div.sk-parallel-item::after {content: \"\";width: 100%;border-bottom: 1px solid gray;flex-grow: 1;}#sk-container-id-17 div.sk-label:hover label.sk-toggleable__label {background-color: #d4ebff;}#sk-container-id-17 div.sk-serial::before {content: \"\";position: absolute;border-left: 1px solid gray;box-sizing: border-box;top: 0;bottom: 0;left: 50%;z-index: 0;}#sk-container-id-17 div.sk-serial {display: flex;flex-direction: column;align-items: center;background-color: white;padding-right: 0.2em;padding-left: 0.2em;position: relative;}#sk-container-id-17 div.sk-item {position: relative;z-index: 1;}#sk-container-id-17 div.sk-parallel {display: flex;align-items: stretch;justify-content: center;background-color: white;position: relative;}#sk-container-id-17 div.sk-item::before, #sk-container-id-17 div.sk-parallel-item::before {content: \"\";position: absolute;border-left: 1px solid gray;box-sizing: border-box;top: 0;bottom: 0;left: 50%;z-index: -1;}#sk-container-id-17 div.sk-parallel-item {display: flex;flex-direction: column;z-index: 1;position: relative;background-color: white;}#sk-container-id-17 div.sk-parallel-item:first-child::after {align-self: flex-end;width: 50%;}#sk-container-id-17 div.sk-parallel-item:last-child::after {align-self: flex-start;width: 50%;}#sk-container-id-17 div.sk-parallel-item:only-child::after {width: 0;}#sk-container-id-17 div.sk-dashed-wrapped {border: 1px dashed gray;margin: 0 0.4em 0.5em 0.4em;box-sizing: border-box;padding-bottom: 0.4em;background-color: white;}#sk-container-id-17 div.sk-label label {font-family: monospace;font-weight: bold;display: inline-block;line-height: 1.2em;}#sk-container-id-17 div.sk-label-container {text-align: center;}#sk-container-id-17 div.sk-container {/* jupyter's `normalize.less` sets `[hidden] { display: none; }` but bootstrap.min.css set `[hidden] { display: none !important; }` so we also need the `!important` here to be able to override the default hidden behavior on the sphinx rendered scikit-learn.org. See: https://github.com/scikit-learn/scikit-learn/issues/21755 */display: inline-block !important;position: relative;}#sk-container-id-17 div.sk-text-repr-fallback {display: none;}</style><div id=\"sk-container-id-17\" class=\"sk-top-container\"><div class=\"sk-text-repr-fallback\"><pre>GridSearchCV(cv=5, estimator=KNeighborsClassifier(),\n",
       "             param_grid={&#x27;n_neighbors&#x27;: array([ 1,  2,  3,  4,  5,  6,  7,  8,  9, 10, 11, 12, 13, 14, 15, 16, 17,\n",
       "       18, 19, 20, 21, 22, 23, 24, 25, 26, 27, 28, 29, 30, 31, 32, 33, 34,\n",
       "       35, 36, 37, 38, 39, 40, 41, 42, 43, 44, 45, 46, 47, 48, 49, 50, 51,\n",
       "       52, 53, 54, 55, 56, 57, 58, 59, 60, 61, 62, 63, 64, 65, 66, 67, 68,\n",
       "       69, 70, 71, 72, 73, 74, 75, 76, 77, 78, 79, 80, 81, 82, 83, 84, 85,\n",
       "       86, 87, 88, 89, 90, 91, 92, 93, 94, 95, 96, 97, 98, 99])})</pre><b>In a Jupyter environment, please rerun this cell to show the HTML representation or trust the notebook. <br />On GitHub, the HTML representation is unable to render, please try loading this page with nbviewer.org.</b></div><div class=\"sk-container\" hidden><div class=\"sk-item sk-dashed-wrapped\"><div class=\"sk-label-container\"><div class=\"sk-label sk-toggleable\"><input class=\"sk-toggleable__control sk-hidden--visually\" id=\"sk-estimator-id-19\" type=\"checkbox\" ><label for=\"sk-estimator-id-19\" class=\"sk-toggleable__label sk-toggleable__label-arrow\">GridSearchCV</label><div class=\"sk-toggleable__content\"><pre>GridSearchCV(cv=5, estimator=KNeighborsClassifier(),\n",
       "             param_grid={&#x27;n_neighbors&#x27;: array([ 1,  2,  3,  4,  5,  6,  7,  8,  9, 10, 11, 12, 13, 14, 15, 16, 17,\n",
       "       18, 19, 20, 21, 22, 23, 24, 25, 26, 27, 28, 29, 30, 31, 32, 33, 34,\n",
       "       35, 36, 37, 38, 39, 40, 41, 42, 43, 44, 45, 46, 47, 48, 49, 50, 51,\n",
       "       52, 53, 54, 55, 56, 57, 58, 59, 60, 61, 62, 63, 64, 65, 66, 67, 68,\n",
       "       69, 70, 71, 72, 73, 74, 75, 76, 77, 78, 79, 80, 81, 82, 83, 84, 85,\n",
       "       86, 87, 88, 89, 90, 91, 92, 93, 94, 95, 96, 97, 98, 99])})</pre></div></div></div><div class=\"sk-parallel\"><div class=\"sk-parallel-item\"><div class=\"sk-item\"><div class=\"sk-label-container\"><div class=\"sk-label sk-toggleable\"><input class=\"sk-toggleable__control sk-hidden--visually\" id=\"sk-estimator-id-20\" type=\"checkbox\" ><label for=\"sk-estimator-id-20\" class=\"sk-toggleable__label sk-toggleable__label-arrow\">estimator: KNeighborsClassifier</label><div class=\"sk-toggleable__content\"><pre>KNeighborsClassifier()</pre></div></div></div><div class=\"sk-serial\"><div class=\"sk-item\"><div class=\"sk-estimator sk-toggleable\"><input class=\"sk-toggleable__control sk-hidden--visually\" id=\"sk-estimator-id-21\" type=\"checkbox\" ><label for=\"sk-estimator-id-21\" class=\"sk-toggleable__label sk-toggleable__label-arrow\">KNeighborsClassifier</label><div class=\"sk-toggleable__content\"><pre>KNeighborsClassifier()</pre></div></div></div></div></div></div></div></div></div></div>"
      ],
      "text/plain": [
       "GridSearchCV(cv=5, estimator=KNeighborsClassifier(),\n",
       "             param_grid={'n_neighbors': array([ 1,  2,  3,  4,  5,  6,  7,  8,  9, 10, 11, 12, 13, 14, 15, 16, 17,\n",
       "       18, 19, 20, 21, 22, 23, 24, 25, 26, 27, 28, 29, 30, 31, 32, 33, 34,\n",
       "       35, 36, 37, 38, 39, 40, 41, 42, 43, 44, 45, 46, 47, 48, 49, 50, 51,\n",
       "       52, 53, 54, 55, 56, 57, 58, 59, 60, 61, 62, 63, 64, 65, 66, 67, 68,\n",
       "       69, 70, 71, 72, 73, 74, 75, 76, 77, 78, 79, 80, 81, 82, 83, 84, 85,\n",
       "       86, 87, 88, 89, 90, 91, 92, 93, 94, 95, 96, 97, 98, 99])})"
      ]
     },
     "execution_count": 466,
     "metadata": {},
     "output_type": "execute_result"
    }
   ],
   "source": [
    "knn_gscv.fit(X_train, y_train)"
   ]
  },
  {
   "cell_type": "code",
   "execution_count": 490,
   "id": "6d6a3d66-1792-4a7e-9754-09737b032731",
   "metadata": {},
   "outputs": [],
   "source": [
    "# finding the best K-value"
   ]
  },
  {
   "cell_type": "code",
   "execution_count": 467,
   "id": "db5b2676-741e-45fc-bbc9-bfdab244877f",
   "metadata": {},
   "outputs": [
    {
     "data": {
      "text/plain": [
       "{'n_neighbors': 42}"
      ]
     },
     "execution_count": 467,
     "metadata": {},
     "output_type": "execute_result"
    }
   ],
   "source": [
    "knn_gscv.best_params_"
   ]
  },
  {
   "cell_type": "code",
   "execution_count": 481,
   "id": "23db16ff-b9c6-408b-8950-d6859bb24aba",
   "metadata": {},
   "outputs": [],
   "source": [
    "best_knn = knn_gscv.best_estimator_\n",
    "y_pred = best_knn.predict(X_test)"
   ]
  },
  {
   "cell_type": "code",
   "execution_count": 482,
   "id": "caf31e1c-535a-4c9c-a2b0-697e267759c0",
   "metadata": {},
   "outputs": [
    {
     "name": "stdout",
     "output_type": "stream",
     "text": [
      "              precision    recall  f1-score   support\n",
      "\n",
      "       False       0.84      0.96      0.90     25074\n",
      "        True       0.91      0.69      0.78     14259\n",
      "\n",
      "    accuracy                           0.86     39333\n",
      "   macro avg       0.88      0.82      0.84     39333\n",
      "weighted avg       0.87      0.86      0.86     39333\n",
      "\n"
     ]
    }
   ],
   "source": [
    "print(classification_report(y_test, y_pred))"
   ]
  },
  {
   "cell_type": "code",
   "execution_count": 468,
   "id": "976595cc-75f6-4732-8451-12994d111139",
   "metadata": {},
   "outputs": [
    {
     "name": "stdout",
     "output_type": "stream",
     "text": [
      "Train class distribution:\n",
      " Outcome Type_Transfer\n",
      "False    0.637494\n",
      "True     0.362506\n",
      "Name: proportion, dtype: float64\n",
      "Test class distribution:\n",
      " Outcome Type_Transfer\n",
      "False    0.63748\n",
      "True     0.36252\n",
      "Name: proportion, dtype: float64\n"
     ]
    }
   ],
   "source": [
    "print(\"Train class distribution:\\n\", y_train.value_counts(normalize=True))\n",
    "print(\"Test class distribution:\\n\", y_test.value_counts(normalize=True))"
   ]
  },
  {
   "cell_type": "code",
   "execution_count": 469,
   "id": "75c6867f-5302-4ad3-8879-025a722a496b",
   "metadata": {},
   "outputs": [],
   "source": [
    "# Check the Outcome Type to see is there any invalid"
   ]
  },
  {
   "cell_type": "code",
   "execution_count": 475,
   "id": "19aa2ba6-1d83-40a1-bcfd-b94a68adf701",
   "metadata": {},
   "outputs": [],
   "source": [
    "from sklearn.linear_model import SGDClassifier\n",
    "clf = SGDClassifier(loss=\"perceptron\", alpha=0.05, random_state=1)\n",
    "clf.fit(X_train, y_train)\n",
    "# Check the accuracy on the test data\n",
    "accuracy_test=accuracy_score(y_test, clf.predict(X_test))\n",
    "\n",
    "# Check accuracy on the training data\n",
    "accuracy_train=accuracy_score(y_train, clf.predict(X_train))\n"
   ]
  },
  {
   "cell_type": "code",
   "execution_count": 476,
   "id": "952c1c19-47f1-4900-9c1c-13c6ac3a72c9",
   "metadata": {},
   "outputs": [
    {
     "data": {
      "text/plain": [
       "0.8487783794777922"
      ]
     },
     "execution_count": 476,
     "metadata": {},
     "output_type": "execute_result"
    }
   ],
   "source": [
    "accuracy_test"
   ]
  },
  {
   "cell_type": "code",
   "execution_count": 478,
   "id": "abaa8124-3286-4596-bfca-bc47c9f3693a",
   "metadata": {},
   "outputs": [
    {
     "data": {
      "text/plain": [
       "0.8459057477526559"
      ]
     },
     "execution_count": 478,
     "metadata": {},
     "output_type": "execute_result"
    }
   ],
   "source": [
    "accuracy_train"
   ]
  },
  {
   "cell_type": "code",
   "execution_count": 483,
   "id": "9b7aa78d-fdd4-4ed6-a6d5-3a2d55424693",
   "metadata": {
    "scrolled": true
   },
   "outputs": [
    {
     "name": "stdout",
     "output_type": "stream",
     "text": [
      "              precision    recall  f1-score   support\n",
      "\n",
      "       False       0.83      0.97      0.89     25074\n",
      "        True       0.92      0.64      0.75     14259\n",
      "\n",
      "    accuracy                           0.85     39333\n",
      "   macro avg       0.87      0.80      0.82     39333\n",
      "weighted avg       0.86      0.85      0.84     39333\n",
      "\n"
     ]
    }
   ],
   "source": [
    "y_pred = clf.predict(X_test)\n",
    "print(classification_report(y_test, y_pred))"
   ]
  },
  {
   "cell_type": "code",
   "execution_count": 484,
   "id": "b11214fb-b525-4353-8b90-1579faafe8d3",
   "metadata": {},
   "outputs": [],
   "source": [
    "f1_test = f1_score(y_test, clf.predict(X_test))"
   ]
  },
  {
   "cell_type": "code",
   "execution_count": 485,
   "id": "2adad0cc-5bf7-4075-8058-183153d8fd45",
   "metadata": {},
   "outputs": [
    {
     "data": {
      "text/plain": [
       "0.7544989268614826"
      ]
     },
     "execution_count": 485,
     "metadata": {},
     "output_type": "execute_result"
    }
   ],
   "source": [
    "f1_test"
   ]
  },
  {
   "cell_type": "code",
   "execution_count": 486,
   "id": "fb1522ae-c9ec-47bf-a5e1-ef1f820c06d6",
   "metadata": {},
   "outputs": [
    {
     "data": {
      "text/plain": [
       "['Transfer', 'Adoption']\n",
       "Categories (2, object): ['Adoption', 'Transfer']"
      ]
     },
     "execution_count": 486,
     "metadata": {},
     "output_type": "execute_result"
    }
   ],
   "source": [
    "animals['Outcome Type'].unique()\n"
   ]
  }
 ],
 "metadata": {
  "kernelspec": {
   "display_name": "base",
   "language": "python",
   "name": "python3"
  },
  "language_info": {
   "codemirror_mode": {
    "name": "ipython",
    "version": 3
   },
   "file_extension": ".py",
   "mimetype": "text/x-python",
   "name": "python",
   "nbconvert_exporter": "python",
   "pygments_lexer": "ipython3",
   "version": "3.11.3"
  }
 },
 "nbformat": 4,
 "nbformat_minor": 5
}
